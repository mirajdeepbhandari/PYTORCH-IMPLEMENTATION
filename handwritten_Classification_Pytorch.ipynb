{
  "nbformat": 4,
  "nbformat_minor": 0,
  "metadata": {
    "colab": {
      "provenance": [],
      "gpuType": "T4"
    },
    "kernelspec": {
      "name": "python3",
      "display_name": "Python 3"
    },
    "language_info": {
      "name": "python"
    },
    "accelerator": "GPU"
  },
  "cells": [
    {
      "cell_type": "code",
      "source": [
        "!pip install tqdm"
      ],
      "metadata": {
        "colab": {
          "base_uri": "https://localhost:8080/"
        },
        "id": "PCRfR78_9LwT",
        "outputId": "8dd5d7ed-f9c1-45d6-9a30-7d4c0a167c78"
      },
      "execution_count": null,
      "outputs": [
        {
          "output_type": "stream",
          "name": "stdout",
          "text": [
            "Requirement already satisfied: tqdm in /usr/local/lib/python3.10/dist-packages (4.66.4)\n"
          ]
        }
      ]
    },
    {
      "cell_type": "code",
      "execution_count": null,
      "metadata": {
        "id": "hFi4kqQxMaKt"
      },
      "outputs": [],
      "source": [
        "import torch\n",
        "import  torchvision.datasets  as datasets\n",
        "import torchvision.transforms as transforms\n",
        "import numpy as np\n",
        "import matplotlib.pyplot as plt\n",
        "from torch.utils.data import DataLoader\n",
        "import torch.nn as nn\n",
        "import torch.nn.functional as F\n",
        "from tqdm import tqdm"
      ]
    },
    {
      "cell_type": "code",
      "source": [
        "transforms=transforms.Compose([\n",
        "    transforms.ToTensor(),\n",
        "    transforms.Normalize((0.5,), (0.5,))\n",
        "])"
      ],
      "metadata": {
        "id": "29F0V9GBQaq-"
      },
      "execution_count": null,
      "outputs": []
    },
    {
      "cell_type": "code",
      "source": [
        "train_data=datasets.FashionMNIST('data',\n",
        "                                 train = True,\n",
        "                                 download= True,\n",
        "                                 transform=transforms)\n",
        "\n",
        "test_data = datasets.FashionMNIST('data',\n",
        "                                  train=False,\n",
        "                                  download=True,\n",
        "                                  transform=transforms)"
      ],
      "metadata": {
        "id": "IEru9flZOxkO"
      },
      "execution_count": null,
      "outputs": []
    },
    {
      "cell_type": "code",
      "source": [
        "print(f\"Number of Training Samples : {len(train_data)}\")\n",
        "print(f\"Number of Training Samples : {len(test_data)}\")"
      ],
      "metadata": {
        "colab": {
          "base_uri": "https://localhost:8080/"
        },
        "id": "sFwRdJOQQ7pY",
        "outputId": "a98b3967-b46b-417c-9c0b-2652a84f2df1"
      },
      "execution_count": null,
      "outputs": [
        {
          "output_type": "stream",
          "name": "stdout",
          "text": [
            "Number of Training Samples : 60000\n",
            "Number of Training Samples : 10000\n"
          ]
        }
      ]
    },
    {
      "cell_type": "code",
      "source": [
        "train_data[0] #(features,targetlabel)"
      ],
      "metadata": {
        "colab": {
          "base_uri": "https://localhost:8080/"
        },
        "id": "PA0UfGgxU1zk",
        "outputId": "20dae2a9-75fa-4156-b68e-888874563265"
      },
      "execution_count": null,
      "outputs": [
        {
          "output_type": "execute_result",
          "data": {
            "text/plain": [
              "(tensor([[[-1.0000, -1.0000, -1.0000, -1.0000, -1.0000, -1.0000, -1.0000,\n",
              "           -1.0000, -1.0000, -1.0000, -1.0000, -1.0000, -1.0000, -1.0000,\n",
              "           -1.0000, -1.0000, -1.0000, -1.0000, -1.0000, -1.0000, -1.0000,\n",
              "           -1.0000, -1.0000, -1.0000, -1.0000, -1.0000, -1.0000, -1.0000],\n",
              "          [-1.0000, -1.0000, -1.0000, -1.0000, -1.0000, -1.0000, -1.0000,\n",
              "           -1.0000, -1.0000, -1.0000, -1.0000, -1.0000, -1.0000, -1.0000,\n",
              "           -1.0000, -1.0000, -1.0000, -1.0000, -1.0000, -1.0000, -1.0000,\n",
              "           -1.0000, -1.0000, -1.0000, -1.0000, -1.0000, -1.0000, -1.0000],\n",
              "          [-1.0000, -1.0000, -1.0000, -1.0000, -1.0000, -1.0000, -1.0000,\n",
              "           -1.0000, -1.0000, -1.0000, -1.0000, -1.0000, -1.0000, -1.0000,\n",
              "           -1.0000, -1.0000, -1.0000, -1.0000, -1.0000, -1.0000, -1.0000,\n",
              "           -1.0000, -1.0000, -1.0000, -1.0000, -1.0000, -1.0000, -1.0000],\n",
              "          [-1.0000, -1.0000, -1.0000, -1.0000, -1.0000, -1.0000, -1.0000,\n",
              "           -1.0000, -1.0000, -1.0000, -1.0000, -1.0000, -0.9922, -1.0000,\n",
              "           -1.0000, -0.8980, -0.4275, -1.0000, -1.0000, -0.9922, -0.9686,\n",
              "           -1.0000, -1.0000, -1.0000, -1.0000, -0.9922, -0.9922, -1.0000],\n",
              "          [-1.0000, -1.0000, -1.0000, -1.0000, -1.0000, -1.0000, -1.0000,\n",
              "           -1.0000, -1.0000, -1.0000, -1.0000, -1.0000, -0.9765, -1.0000,\n",
              "           -0.7176,  0.0667, -0.0039, -0.5137, -0.5765, -1.0000, -1.0000,\n",
              "           -1.0000, -0.9922, -0.9765, -0.9686, -1.0000, -1.0000, -0.9765],\n",
              "          [-1.0000, -1.0000, -1.0000, -1.0000, -1.0000, -1.0000, -1.0000,\n",
              "           -1.0000, -1.0000, -1.0000, -1.0000, -1.0000, -0.9529, -1.0000,\n",
              "           -0.2000,  0.6000,  0.3804,  0.0510,  0.1294, -0.0353, -0.8196,\n",
              "           -1.0000, -1.0000, -1.0000, -1.0000, -0.9059, -0.9216, -1.0000],\n",
              "          [-1.0000, -1.0000, -1.0000, -1.0000, -1.0000, -1.0000, -1.0000,\n",
              "           -1.0000, -1.0000, -1.0000, -1.0000, -1.0000, -1.0000, -1.0000,\n",
              "            0.2157,  0.8510,  0.6235,  0.3961, -0.1608,  0.2235,  0.2627,\n",
              "           -0.1451, -0.4980, -0.8196, -0.3961,  0.0196, -0.4353, -0.8824],\n",
              "          [-1.0000, -1.0000, -1.0000, -1.0000, -1.0000, -1.0000, -1.0000,\n",
              "           -1.0000, -1.0000, -1.0000, -1.0000, -0.9922, -1.0000, -0.4588,\n",
              "            0.6235,  0.7490,  0.7098,  0.6941,  0.6941,  0.2784, -0.0039,\n",
              "           -0.0510, -0.0431,  0.1451,  0.1059, -0.3098,  0.3490, -0.4824],\n",
              "          [-1.0000, -1.0000, -1.0000, -1.0000, -1.0000, -1.0000, -1.0000,\n",
              "           -1.0000, -1.0000, -0.9922, -0.9922, -0.9922, -1.0000,  0.5686,\n",
              "            0.8196,  0.8196,  0.8275,  0.7961,  0.7490,  0.7490,  0.6863,\n",
              "            0.6706,  0.2863, -0.0039, -0.0353,  0.5373,  0.7961, -1.0000],\n",
              "          [-1.0000, -1.0000, -1.0000, -1.0000, -1.0000, -1.0000, -1.0000,\n",
              "           -1.0000, -1.0000, -1.0000, -1.0000, -1.0000, -1.0000,  0.4353,\n",
              "            0.7647,  0.6941,  0.7490,  0.7882,  0.8431,  0.7804,  0.7569,\n",
              "            0.7412,  0.7569,  0.7333,  0.7490,  0.9216,  0.3569, -1.0000],\n",
              "          [-1.0000, -1.0000, -1.0000, -1.0000, -1.0000, -1.0000, -1.0000,\n",
              "           -1.0000, -1.0000, -1.0000, -1.0000, -1.0000, -1.0000,  0.5137,\n",
              "            0.7882,  0.7098,  0.6706,  0.5529,  0.4118,  0.6627,  0.6471,\n",
              "            0.6549,  0.6706,  0.7490,  0.7255,  0.9059,  0.5843, -1.0000],\n",
              "          [-1.0000, -1.0000, -1.0000, -1.0000, -1.0000, -1.0000, -1.0000,\n",
              "           -1.0000, -1.0000, -0.9922, -0.9765, -1.0000, -0.9059,  0.7176,\n",
              "            0.7255,  0.6627,  0.7098,  0.5059,  0.3255,  0.7804,  0.6314,\n",
              "            0.7098,  0.7569,  0.6627,  0.7725,  0.5451,  0.6392, -0.5922],\n",
              "          [-1.0000, -1.0000, -1.0000, -1.0000, -1.0000, -1.0000, -1.0000,\n",
              "           -1.0000, -1.0000, -1.0000, -0.9529, -1.0000, -0.2235,  0.9137,\n",
              "            0.7412,  0.7255,  0.7098,  0.5922,  0.5529,  0.7333,  0.6863,\n",
              "            0.6706,  0.7412,  0.7255,  0.9216, -0.0667,  0.3098, -0.5608],\n",
              "          [-1.0000, -1.0000, -1.0000, -1.0000, -1.0000, -1.0000, -1.0000,\n",
              "           -1.0000, -1.0000, -0.9686, -1.0000, -1.0000, -0.5686,  0.8510,\n",
              "            0.7882,  0.8039,  0.7882,  0.8824,  0.8196,  0.6706,  0.7098,\n",
              "            0.7490,  0.8353,  0.7020,  0.7020,  0.6392, -0.2784, -1.0000],\n",
              "          [-1.0000, -1.0000, -0.9922, -0.9686, -0.9529, -0.9451, -0.9843,\n",
              "           -1.0000, -1.0000, -1.0000, -1.0000, -1.0000,  0.8588,  0.7725,\n",
              "            0.7020,  0.7490,  0.7412,  0.7176,  0.7412,  0.7333,  0.6941,\n",
              "            0.7490,  0.7961,  0.6863,  0.7098,  1.0000, -0.3961, -1.0000],\n",
              "          [-1.0000, -0.9765, -1.0000, -1.0000, -1.0000, -1.0000, -1.0000,\n",
              "           -1.0000, -1.0000, -0.5137,  0.1373,  0.6000,  0.7882,  0.6235,\n",
              "            0.6706,  0.7333,  0.7098,  0.6314,  0.6549,  0.7098,  0.7569,\n",
              "            0.7490,  0.7176,  0.6863,  0.7569,  0.9137,  0.2471, -1.0000],\n",
              "          [-1.0000, -1.0000, -1.0000, -1.0000, -0.8588, -0.6549, -0.3569,\n",
              "           -0.1608,  0.4824,  0.7882,  0.7255,  0.7412,  0.7020,  0.7725,\n",
              "            0.5686,  0.6078,  0.6549,  0.8039,  0.7569,  0.8353,  0.3804,\n",
              "            0.4745,  0.9608,  0.9451,  0.8275,  0.8667,  0.6863, -1.0000],\n",
              "          [-1.0000, -0.5529,  0.4667,  0.6314,  0.7569,  0.7333,  0.7569,\n",
              "            0.6314,  0.6000,  0.6784,  0.6314,  0.6392,  0.5686,  0.2471,\n",
              "            0.9216,  0.5137,  0.6157,  0.7490,  1.0000,  1.0000,  0.7333,\n",
              "            0.8353,  0.7333,  0.6549,  0.7255,  0.8196,  0.9294, -1.0000],\n",
              "          [-0.9765,  0.5843,  0.7882,  0.7569,  0.7333,  0.6549,  0.6549,\n",
              "            0.6784,  0.6078,  0.6078,  0.6078,  0.7255,  0.8824, -0.3725,\n",
              "            0.1765,  1.0000,  0.7961,  0.7333,  0.4745,  0.2078,  0.4980,\n",
              "            0.6471,  0.6000,  0.6392,  0.7412,  0.7882,  0.7647, -1.0000],\n",
              "          [-0.2314,  0.8275,  0.5529,  0.6471,  0.7412,  0.7961,  0.7961,\n",
              "            0.8353,  0.9529,  0.7255,  0.5216,  0.6863,  0.7020,  0.8902,\n",
              "           -0.4902, -0.4275, -0.1686, -0.0824,  0.3176,  0.7176,  0.7333,\n",
              "            0.6863,  0.7020,  0.7490,  0.7490,  0.7569,  0.7961, -0.7725],\n",
              "          [-0.4118,  0.6000,  0.6627,  0.6000,  0.5137,  0.6078,  0.6549,\n",
              "            0.7647,  0.6941,  0.4510,  0.5451,  0.6157,  0.5529,  0.6706,\n",
              "            0.8824,  0.5294,  0.7804,  0.9216,  0.8745,  0.7490,  0.7098,\n",
              "            0.6627,  0.6392,  0.7412,  0.7255,  0.7333,  0.8039, -0.4745],\n",
              "          [-0.6235,  0.5922,  0.4353,  0.5216,  0.6706,  0.5451,  0.4510,\n",
              "            0.4902,  0.5216,  0.5059,  0.5843,  0.6784,  0.7176,  0.7333,\n",
              "            0.7255,  0.8510,  0.7647,  0.6941,  0.5608,  0.6157,  0.4588,\n",
              "            0.4196,  0.3882,  0.3490,  0.4196,  0.6078,  0.6157, -0.0980],\n",
              "          [-1.0000, -0.0431,  0.7176,  0.5137,  0.4039,  0.3412,  0.4353,\n",
              "            0.5373,  0.6000,  0.6471,  0.6706,  0.6235,  0.6549,  0.6471,\n",
              "            0.5686,  0.5373,  0.5216,  0.4980,  0.5294,  0.4980,  0.5529,\n",
              "            0.5059,  0.3804,  0.2235,  0.3098,  0.3882,  0.6471, -0.2784],\n",
              "          [-1.0000, -1.0000, -0.4196,  0.4824,  0.6627,  0.4980,  0.3725,\n",
              "            0.3490,  0.3725,  0.4196,  0.4510,  0.4745,  0.4824,  0.4745,\n",
              "            0.5137,  0.5529,  0.6000,  0.6392,  0.6471,  0.6471,  0.6549,\n",
              "            0.4745,  0.4745,  0.5216,  0.5059,  0.6941,  0.3333, -1.0000],\n",
              "          [-0.9843, -1.0000, -1.0000, -1.0000, -0.4824,  0.5686,  0.7412,\n",
              "            0.8588,  0.8745,  0.8980,  0.9294,  0.9059,  0.9137,  0.7333,\n",
              "            0.7255,  0.5137,  0.4980,  0.4039,  0.4275,  0.4275,  0.4196,\n",
              "            0.3804,  0.3020,  0.3176, -0.2235, -0.5451, -1.0000, -1.0000],\n",
              "          [-1.0000, -1.0000, -1.0000, -1.0000, -1.0000, -1.0000, -1.0000,\n",
              "           -0.6863, -0.5216, -0.6549, -0.4353, -0.6784, -0.7255, -1.0000,\n",
              "           -1.0000, -1.0000, -1.0000, -1.0000, -1.0000, -1.0000, -1.0000,\n",
              "           -1.0000, -1.0000, -1.0000, -1.0000, -1.0000, -1.0000, -1.0000],\n",
              "          [-1.0000, -1.0000, -1.0000, -1.0000, -1.0000, -1.0000, -1.0000,\n",
              "           -1.0000, -1.0000, -1.0000, -1.0000, -1.0000, -1.0000, -1.0000,\n",
              "           -1.0000, -1.0000, -1.0000, -1.0000, -1.0000, -1.0000, -1.0000,\n",
              "           -1.0000, -1.0000, -1.0000, -1.0000, -1.0000, -1.0000, -1.0000],\n",
              "          [-1.0000, -1.0000, -1.0000, -1.0000, -1.0000, -1.0000, -1.0000,\n",
              "           -1.0000, -1.0000, -1.0000, -1.0000, -1.0000, -1.0000, -1.0000,\n",
              "           -1.0000, -1.0000, -1.0000, -1.0000, -1.0000, -1.0000, -1.0000,\n",
              "           -1.0000, -1.0000, -1.0000, -1.0000, -1.0000, -1.0000, -1.0000]]]),\n",
              " 9)"
            ]
          },
          "metadata": {},
          "execution_count": 6
        }
      ]
    },
    {
      "cell_type": "code",
      "source": [
        "# checking 0th training sample\n",
        "print(f\"The input Shape of Image : {list(train_data[0][0].shape)}\")\n",
        "\n",
        "print(\"Label for 0th sample: \", train_data[0][1])"
      ],
      "metadata": {
        "colab": {
          "base_uri": "https://localhost:8080/"
        },
        "id": "iWIKZbeASa53",
        "outputId": "d9de8e31-4a05-46b0-d8b7-9b1c049b6298"
      },
      "execution_count": null,
      "outputs": [
        {
          "output_type": "stream",
          "name": "stdout",
          "text": [
            "The input Shape of Image : [1, 28, 28]\n",
            "Label for 0th sample:  9\n"
          ]
        }
      ]
    },
    {
      "cell_type": "code",
      "source": [
        "labels_map = {\n",
        "    0: \"T-Shirt\",\n",
        "    1: \"Trouser\",\n",
        "    2: \"Pullover\",\n",
        "    3: \"Dress\",\n",
        "    4: \"Coat\",\n",
        "    5: \"Sandal\",\n",
        "    6: \"Shirt\",\n",
        "    7: \"Sneaker\",\n",
        "    8: \"Bag\",\n",
        "    9: \"Ankle Boot\",\n",
        "}"
      ],
      "metadata": {
        "id": "FFPHJZpgSm-7"
      },
      "execution_count": null,
      "outputs": []
    },
    {
      "cell_type": "code",
      "source": [
        "fig, ax = plt.subplots(3, 3)\n",
        "\n",
        "ax = ax.flatten()\n",
        "random_numbers = np.random.randint(0, 101, 9)\n",
        "for index,value in enumerate(random_numbers):\n",
        "  ax[index].imshow(train_data[value][0].squeeze()) #(1, 28, 28)\n",
        "  ax[index].set_title(labels_map[train_data[value][1]])\n",
        "  ax[index].axis(\"off\")\n",
        "\n",
        "plt.tight_layout()\n",
        "plt.show()\n"
      ],
      "metadata": {
        "colab": {
          "base_uri": "https://localhost:8080/",
          "height": 486
        },
        "id": "DFI0o39VWGlb",
        "outputId": "6241f3f4-c14b-4b28-c637-40f40d2a7157"
      },
      "execution_count": null,
      "outputs": [
        {
          "output_type": "display_data",
          "data": {
            "text/plain": [
              "<Figure size 640x480 with 9 Axes>"
            ],
            "image/png": "[encoded data removed]"
          },
          "metadata": {}
        }
      ]
    },
    {
      "cell_type": "code",
      "source": [
        "train_dataloader = DataLoader(train_data, batch_size=32, shuffle=True)\n",
        "test_dataloader = DataLoader(test_data, batch_size=32, shuffle=False)"
      ],
      "metadata": {
        "id": "zwfWSl3joMS7"
      },
      "execution_count": null,
      "outputs": []
    },
    {
      "cell_type": "code",
      "source": [
        "train_features, train_labels = next(iter(train_dataloader))\n",
        "print(f\"Training batch shape: {train_features.size()}\")\n",
        "print(f\"Labels batch shape: {train_labels.size()}\")"
      ],
      "metadata": {
        "colab": {
          "base_uri": "https://localhost:8080/"
        },
        "id": "d4W21JGSpNcM",
        "outputId": "65c8290a-31a9-4901-d47f-0aa4fcbfc068"
      },
      "execution_count": null,
      "outputs": [
        {
          "output_type": "stream",
          "name": "stdout",
          "text": [
            "Training batch shape: torch.Size([32, 1, 28, 28])\n",
            "Labels batch shape: torch.Size([32])\n"
          ]
        }
      ]
    },
    {
      "cell_type": "code",
      "source": [
        "# Make device agnostic code\n",
        "device = \"cuda\" if torch.cuda.is_available() else \"cpu\"\n",
        "device"
      ],
      "metadata": {
        "colab": {
          "base_uri": "https://localhost:8080/",
          "height": 36
        },
        "id": "B75rMRWK1JI0",
        "outputId": "5bea113c-ac30-45e6-8658-6cfbc250e6ce"
      },
      "execution_count": null,
      "outputs": [
        {
          "output_type": "execute_result",
          "data": {
            "text/plain": [
              "'cuda'"
            ],
            "application/vnd.google.colaboratory.intrinsic+json": {
              "type": "string"
            }
          },
          "metadata": {},
          "execution_count": 12
        }
      ]
    },
    {
      "cell_type": "code",
      "source": [
        "class ImageClassifier(nn.Module):\n",
        "    def __init__(self):\n",
        "        super().__init__()\n",
        "        self.flatten = nn.Flatten()\n",
        "        self.layer1 = nn.Linear(in_features=28*28, out_features=512)\n",
        "        self.layer2 = nn.Linear(in_features=512, out_features=256)\n",
        "        self.layer3 = nn.Linear(in_features=256, out_features=128)\n",
        "        self.layer4 = nn.Linear(in_features=128, out_features=64)\n",
        "        self.layer5 = nn.Linear(in_features=64, out_features=32)\n",
        "        self.layer6 = nn.Linear(in_features=32, out_features=10)\n",
        "        self.do = nn.Dropout(0.2)\n",
        "\n",
        "    def forward(self, x):\n",
        "        x = self.flatten(x)\n",
        "        x = F.relu(self.layer1(x))\n",
        "        x = self.do(x)\n",
        "\n",
        "        x = F.relu(self.layer2(x))\n",
        "        x = self.do(x)\n",
        "\n",
        "        x = F.relu(self.layer3(x))\n",
        "        x = self.do(x)\n",
        "\n",
        "\n",
        "        x = F.relu(self.layer4(x))\n",
        "\n",
        "\n",
        "        x = F.relu(self.layer5(x))\n",
        "\n",
        "        logits = self.layer6(x)\n",
        "        return logits\n",
        "\n",
        "torch.manual_seed(42)\n",
        "\n",
        "model = ImageClassifier()\n",
        "\n",
        "model.to(device)"
      ],
      "metadata": {
        "id": "7_1Mm-7np4Ty",
        "colab": {
          "base_uri": "https://localhost:8080/"
        },
        "outputId": "49c254e4-d666-4d58-e636-6f1ef052ff9f"
      },
      "execution_count": null,
      "outputs": [
        {
          "output_type": "execute_result",
          "data": {
            "text/plain": [
              "ImageClassifier(\n",
              "  (flatten): Flatten(start_dim=1, end_dim=-1)\n",
              "  (layer1): Linear(in_features=784, out_features=512, bias=True)\n",
              "  (layer2): Linear(in_features=512, out_features=256, bias=True)\n",
              "  (layer3): Linear(in_features=256, out_features=128, bias=True)\n",
              "  (layer4): Linear(in_features=128, out_features=64, bias=True)\n",
              "  (layer5): Linear(in_features=64, out_features=32, bias=True)\n",
              "  (layer6): Linear(in_features=32, out_features=10, bias=True)\n",
              "  (do): Dropout(p=0.2, inplace=False)\n",
              ")"
            ]
          },
          "metadata": {},
          "execution_count": 13
        }
      ]
    },
    {
      "cell_type": "code",
      "source": [
        "# Check model prameters (weights and bias)\n",
        "\n",
        "model.state_dict() # list(model.parameters()) ~ this dont give the layer names"
      ],
      "metadata": {
        "colab": {
          "base_uri": "https://localhost:8080/"
        },
        "id": "I0qILhrT01A9",
        "outputId": "e3dd8c9e-ce46-4161-f3ce-f533c061f94b"
      },
      "execution_count": null,
      "outputs": [
        {
          "output_type": "execute_result",
          "data": {
            "text/plain": [
              "OrderedDict([('layer1.weight',\n",
              "              tensor([[ 0.0273,  0.0296, -0.0084,  ..., -0.0142,  0.0093,  0.0135],\n",
              "                      [-0.0188, -0.0354,  0.0187,  ..., -0.0106, -0.0001,  0.0115],\n",
              "                      [-0.0008,  0.0017,  0.0045,  ..., -0.0127, -0.0188,  0.0059],\n",
              "                      ...,\n",
              "                      [-0.0084, -0.0058,  0.0228,  ...,  0.0293,  0.0206, -0.0119],\n",
              "                      [ 0.0009,  0.0123,  0.0233,  ..., -0.0127, -0.0286,  0.0204],\n",
              "                      [-0.0308,  0.0149, -0.0223,  ...,  0.0130, -0.0236, -0.0194]],\n",
              "                     device='cuda:0')),\n",
              "             ('layer1.bias',\n",
              "              tensor([-1.5505e-02, -3.2696e-02, -1.3353e-02,  3.5505e-02,  1.5904e-02,\n",
              "                       7.8679e-03,  6.5271e-03,  5.7883e-03,  2.8752e-02, -2.1171e-02,\n",
              "                       2.8024e-02,  3.5634e-02,  1.5948e-02,  3.5401e-02,  2.7916e-02,\n",
              "                       3.1786e-02, -1.2170e-02,  2.0021e-02, -4.7394e-03,  1.6366e-02,\n",
              "                      -2.0817e-02, -2.5212e-02,  2.9135e-02, -1.0824e-02, -1.5246e-02,\n",
              "                       1.6319e-02,  3.9158e-03, -2.0049e-02,  6.4671e-06,  9.9425e-03,\n",
              "                      -4.1954e-03,  1.0660e-02, -3.3061e-02, -2.6910e-02,  3.1366e-02,\n",
              "                      -2.7439e-02,  4.0010e-03,  2.2719e-02,  9.0853e-03, -3.2127e-02,\n",
              "                      -2.9268e-02, -3.4516e-02,  2.4226e-02,  2.4354e-02, -1.4881e-02,\n",
              "                       2.3167e-03, -2.7620e-03,  1.9277e-02, -2.1683e-02,  1.3494e-02,\n",
              "                       2.1517e-03,  7.4790e-03, -1.4102e-02,  2.3649e-02, -9.7762e-03,\n",
              "                      -3.4344e-04,  1.8781e-02,  1.4212e-02, -3.3358e-02,  1.9335e-02,\n",
              "                      -2.4410e-02,  1.6401e-02, -2.7896e-02,  2.8415e-02,  1.5410e-02,\n",
              "                      -1.0950e-02,  5.8264e-03, -2.2293e-02,  2.2976e-02, -1.6541e-02,\n",
              "                      -1.4533e-02,  2.6649e-02, -3.2514e-02, -1.8757e-02,  3.4506e-02,\n",
              "                       3.3169e-02,  1.6838e-02, -3.5476e-02,  3.5795e-03,  8.8015e-03,\n",
              "                      -1.2844e-02, -1.9066e-02, -6.4094e-03, -1.8435e-02, -3.6357e-03,\n",
              "                       6.6739e-03,  2.8606e-02, -1.7629e-02, -2.6502e-02,  1.9483e-02,\n",
              "                       4.0095e-03,  1.9221e-02, -9.8040e-03,  8.5904e-03, -4.8733e-03,\n",
              "                      -1.9769e-02, -1.7464e-02,  3.4789e-02,  1.0478e-02, -4.6240e-03,\n",
              "                      -3.5326e-02,  2.3007e-02, -7.7292e-03,  2.8573e-02,  1.2210e-02,\n",
              "                      -3.2640e-02,  8.3563e-03, -7.3363e-03,  2.9402e-02,  3.9986e-03,\n",
              "                      -2.7580e-02,  2.1792e-02, -2.0154e-02,  2.6137e-02,  1.9127e-02,\n",
              "                       1.7685e-03, -6.3045e-03, -1.1410e-02,  4.2802e-03,  8.7162e-03,\n",
              "                      -1.0328e-03,  1.4195e-02, -7.4580e-04,  1.0603e-02,  2.2951e-02,\n",
              "                      -3.2547e-02,  2.6819e-02, -2.2626e-02,  9.1681e-03,  1.4791e-02,\n",
              "                       2.0447e-02,  2.8276e-02,  1.0296e-02, -1.6805e-02, -3.3863e-02,\n",
              "                       1.2999e-02, -1.3032e-02, -1.2428e-04, -8.7676e-03, -1.3659e-02,\n",
              "                      -4.6620e-03,  2.5752e-02,  2.6885e-02,  3.2684e-02, -4.7462e-03,\n",
              "                      -1.4423e-02, -1.0192e-02,  5.7878e-04,  1.3095e-02, -5.5894e-03,\n",
              "                      -3.5046e-02, -2.8966e-02,  1.5803e-02,  4.9204e-03, -2.4886e-02,\n",
              "                      -3.1402e-02, -2.2429e-02,  1.9891e-03,  7.1186e-03, -3.2151e-02,\n",
              "                       1.3356e-02,  2.2203e-02, -4.4811e-03,  1.5752e-03,  2.5082e-03,\n",
              "                      -2.4918e-02, -1.3054e-02, -2.3100e-02, -9.7686e-03, -4.3525e-03,\n",
              "                       2.1804e-02,  1.3528e-03,  3.7421e-03,  1.2292e-02,  3.5359e-02,\n",
              "                      -2.4653e-02,  1.5486e-02, -3.2458e-02,  8.7695e-03, -1.8266e-02,\n",
              "                       5.4959e-03,  2.1008e-03, -2.1536e-02, -2.0877e-02, -3.0507e-02,\n",
              "                      -2.2892e-02,  2.7179e-02,  1.6648e-02, -1.5959e-02,  3.1663e-02,\n",
              "                      -7.6290e-03, -1.9710e-02, -1.2842e-03, -2.6548e-02, -1.9117e-02,\n",
              "                       2.0996e-02,  2.2466e-02,  1.1123e-02, -3.6586e-03,  2.5982e-02,\n",
              "                       2.4157e-02,  7.9433e-03, -7.7940e-03, -2.9379e-02,  8.4519e-05,\n",
              "                      -2.3169e-02,  2.8988e-03, -2.8928e-03,  1.2819e-02, -2.1941e-02,\n",
              "                      -3.1103e-02, -2.7007e-02, -9.1788e-03,  2.5283e-04, -2.8113e-02,\n",
              "                      -1.9097e-02, -1.9919e-02, -6.0975e-03, -1.0281e-02,  1.6021e-02,\n",
              "                       3.0377e-02,  2.7521e-02, -3.5592e-02,  1.4570e-04, -1.6761e-02,\n",
              "                       4.5608e-03,  1.4424e-02,  2.0208e-02, -4.3415e-03, -3.0680e-02,\n",
              "                       4.6411e-03,  2.4760e-02,  4.2689e-04, -1.8499e-02, -1.4899e-02,\n",
              "                       2.0253e-02,  9.3945e-03,  3.1003e-02,  2.5508e-02,  1.9956e-02,\n",
              "                      -2.8577e-02,  3.1953e-02,  3.5797e-03, -3.2874e-02,  1.7024e-03,\n",
              "                      -2.7793e-02,  2.4403e-03, -2.7997e-02, -3.5454e-02,  2.9492e-02,\n",
              "                      -2.1271e-02,  1.3797e-02,  4.4608e-03, -1.3486e-02,  3.7017e-03,\n",
              "                      -4.3776e-03, -3.1987e-02, -1.8110e-02, -2.5663e-02, -1.5858e-02,\n",
              "                      -1.0639e-02, -1.7287e-02,  1.7442e-02,  3.2514e-02, -1.0000e-02,\n",
              "                      -7.7610e-03,  2.4721e-02,  2.4985e-02,  1.2512e-02, -3.3239e-02,\n",
              "                       3.4703e-02, -2.5872e-02, -1.1060e-02, -2.0939e-02,  3.2761e-02,\n",
              "                       3.1849e-02,  2.4545e-02,  3.2242e-02, -7.4642e-03,  1.6229e-02,\n",
              "                       1.3072e-02,  1.5425e-03,  1.8526e-02, -3.5193e-02,  3.1960e-02,\n",
              "                       2.0537e-02,  2.3935e-02, -6.8562e-03,  1.0889e-02,  2.8016e-02,\n",
              "                       1.0495e-02,  3.4441e-02,  2.3769e-03, -2.6528e-03, -8.5641e-04,\n",
              "                       8.4051e-03,  3.5390e-02, -9.4606e-04, -2.4823e-02,  1.7133e-02,\n",
              "                       1.0073e-02, -1.7378e-02,  1.8149e-02,  1.1704e-02, -4.0518e-03,\n",
              "                       3.5144e-02,  7.6883e-03, -1.7782e-02,  4.5163e-03, -8.8168e-03,\n",
              "                      -3.1513e-02, -5.7906e-03,  2.6616e-02,  2.2995e-02, -9.6894e-03,\n",
              "                       2.8572e-02, -1.7733e-02, -2.0685e-02,  5.2433e-04, -3.1750e-02,\n",
              "                      -2.5244e-02, -2.2610e-02, -8.9112e-03,  4.4882e-03, -3.2259e-03,\n",
              "                      -1.4111e-02,  1.1918e-02,  2.6873e-02,  2.9398e-02,  1.0721e-02,\n",
              "                      -3.1755e-02,  1.4723e-02, -1.6078e-02,  4.6741e-03, -3.2299e-02,\n",
              "                       2.2359e-02, -2.7228e-02,  1.3478e-02, -1.8014e-02,  1.9709e-02,\n",
              "                       1.7399e-02, -8.2336e-03, -8.4838e-03,  2.1040e-02,  3.2320e-02,\n",
              "                       2.9329e-02,  1.2259e-02,  3.0906e-02,  2.9235e-02,  2.5783e-02,\n",
              "                       6.2748e-03, -2.0464e-02,  2.5993e-02, -3.3720e-02, -3.0711e-02,\n",
              "                      -1.5984e-02,  9.5294e-03, -2.0663e-02,  5.4320e-03,  5.7096e-03,\n",
              "                      -3.2497e-03, -4.0189e-04, -3.4030e-02, -8.2095e-03, -2.0654e-02,\n",
              "                       3.1712e-02, -2.7127e-02, -2.4602e-02, -2.6764e-02,  1.5481e-02,\n",
              "                       3.0445e-02, -1.2823e-02,  2.5313e-02,  3.0451e-03, -2.7241e-02,\n",
              "                       1.2043e-02,  2.4754e-02,  6.0191e-03, -9.9526e-03, -4.8838e-03,\n",
              "                       2.1712e-02, -1.6043e-02, -6.8286e-03, -2.1925e-02,  3.0002e-02,\n",
              "                      -3.2983e-02,  1.7489e-02,  3.1192e-02, -6.0621e-03,  6.1482e-03,\n",
              "                       2.4332e-02,  5.2373e-03,  3.1180e-02,  2.9833e-02,  1.5803e-04,\n",
              "                       3.2934e-02, -2.1399e-02, -1.6079e-02, -2.4136e-02, -1.2924e-02,\n",
              "                      -2.6332e-02,  2.5571e-02, -5.3862e-03, -2.7214e-02,  2.2297e-02,\n",
              "                      -2.8331e-02, -1.8427e-02,  3.5099e-02, -2.4530e-02, -2.5963e-02,\n",
              "                       1.6498e-02,  1.9517e-02,  1.2258e-02, -1.5866e-02, -2.5997e-02,\n",
              "                      -2.2932e-02,  1.6804e-02, -9.1328e-03,  1.2153e-02, -2.0780e-03,\n",
              "                      -1.4573e-02,  3.0545e-02, -2.9639e-02, -6.0484e-03,  1.0352e-02,\n",
              "                       1.6022e-02,  3.2838e-02,  1.1885e-02, -2.4253e-02,  3.3081e-02,\n",
              "                      -1.9251e-02,  1.1506e-02, -4.8184e-04, -2.7299e-02, -2.0782e-02,\n",
              "                       1.3517e-03,  1.7760e-02,  3.5986e-03,  2.4714e-02, -1.0079e-02,\n",
              "                       2.5779e-02, -1.5712e-02, -3.4275e-03, -3.2114e-02, -1.9030e-02,\n",
              "                      -4.0164e-03,  1.9728e-02, -2.0196e-02, -1.3540e-03,  8.5314e-03,\n",
              "                      -2.7475e-03,  1.7043e-02,  9.8973e-03,  3.1675e-02, -3.2689e-02,\n",
              "                       3.5536e-02, -3.5905e-03,  8.3893e-03, -2.9810e-02, -6.6934e-03,\n",
              "                       2.4526e-02, -1.3814e-02, -2.2872e-02,  6.2209e-03,  1.2617e-02,\n",
              "                       2.0895e-02,  9.7385e-03,  1.6024e-02,  3.2260e-02,  2.0915e-02,\n",
              "                       3.2568e-02, -3.1779e-02,  1.9668e-02,  7.3523e-04, -3.0771e-02,\n",
              "                       2.6365e-02, -3.1076e-03,  3.4686e-02,  1.2093e-02,  2.8295e-02,\n",
              "                       1.9963e-02,  1.2238e-02,  1.4661e-02,  1.4490e-02,  1.7613e-02,\n",
              "                      -3.0461e-02,  9.2494e-03, -2.6100e-02,  1.9915e-02, -1.9524e-02,\n",
              "                       1.2370e-02,  3.0551e-02, -1.0742e-02, -1.6492e-02,  2.0958e-02,\n",
              "                       2.8925e-02,  1.8586e-02, -1.7255e-02,  2.6226e-02,  1.6367e-03,\n",
              "                      -1.6604e-02,  7.4166e-04,  2.6156e-02,  1.2887e-02,  4.3246e-03,\n",
              "                      -1.2390e-02, -4.1765e-03,  9.0212e-03,  4.4437e-03, -2.3132e-02,\n",
              "                       2.9016e-02, -2.4390e-02], device='cuda:0')),\n",
              "             ('layer2.weight',\n",
              "              tensor([[ 0.0116,  0.0293, -0.0280,  ...,  0.0334, -0.0078,  0.0298],\n",
              "                      [ 0.0095,  0.0038,  0.0009,  ..., -0.0365, -0.0011, -0.0221],\n",
              "                      [-0.0039,  0.0105, -0.0134,  ...,  0.0130, -0.0173, -0.0312],\n",
              "                      ...,\n",
              "                      [ 0.0055,  0.0373,  0.0436,  ..., -0.0179, -0.0153, -0.0119],\n",
              "                      [ 0.0041, -0.0129, -0.0267,  ..., -0.0276, -0.0304,  0.0114],\n",
              "                      [-0.0149,  0.0280,  0.0174,  ...,  0.0226,  0.0323, -0.0153]],\n",
              "                     device='cuda:0')),\n",
              "             ('layer2.bias',\n",
              "              tensor([ 0.0095,  0.0152,  0.0387,  0.0255,  0.0095, -0.0144,  0.0436,  0.0257,\n",
              "                       0.0294, -0.0322, -0.0137,  0.0360, -0.0206,  0.0093, -0.0072,  0.0094,\n",
              "                      -0.0188, -0.0390, -0.0309,  0.0175, -0.0179, -0.0145, -0.0128, -0.0257,\n",
              "                       0.0249,  0.0244, -0.0368,  0.0435, -0.0165, -0.0132,  0.0182,  0.0397,\n",
              "                       0.0335,  0.0354, -0.0236,  0.0287, -0.0288,  0.0161,  0.0353,  0.0055,\n",
              "                      -0.0215, -0.0324,  0.0246, -0.0344,  0.0064, -0.0440, -0.0136,  0.0297,\n",
              "                       0.0416, -0.0078, -0.0200,  0.0026, -0.0206, -0.0277, -0.0139, -0.0177,\n",
              "                      -0.0305,  0.0329, -0.0365,  0.0046,  0.0021, -0.0152, -0.0263,  0.0148,\n",
              "                      -0.0187,  0.0122, -0.0192,  0.0350,  0.0143,  0.0368,  0.0063,  0.0027,\n",
              "                       0.0132,  0.0088,  0.0175, -0.0362,  0.0085, -0.0415, -0.0230,  0.0371,\n",
              "                       0.0260,  0.0252,  0.0061, -0.0391, -0.0369, -0.0132, -0.0290,  0.0243,\n",
              "                      -0.0410, -0.0323, -0.0240, -0.0240,  0.0278, -0.0433,  0.0111,  0.0145,\n",
              "                       0.0022, -0.0258, -0.0409,  0.0155,  0.0038,  0.0151, -0.0215,  0.0229,\n",
              "                       0.0162, -0.0324,  0.0119,  0.0109, -0.0304,  0.0174, -0.0432, -0.0275,\n",
              "                       0.0209,  0.0248,  0.0246,  0.0209,  0.0251,  0.0175,  0.0374, -0.0247,\n",
              "                      -0.0017,  0.0083, -0.0401, -0.0171, -0.0056, -0.0290,  0.0422, -0.0035,\n",
              "                      -0.0099, -0.0030, -0.0285, -0.0114, -0.0162,  0.0256,  0.0088, -0.0012,\n",
              "                      -0.0070,  0.0377,  0.0193,  0.0379,  0.0018,  0.0428,  0.0154,  0.0437,\n",
              "                      -0.0341, -0.0214, -0.0307,  0.0313,  0.0217,  0.0259, -0.0371,  0.0255,\n",
              "                       0.0283,  0.0202,  0.0149, -0.0200,  0.0282,  0.0234,  0.0389,  0.0142,\n",
              "                      -0.0383, -0.0274, -0.0140, -0.0193, -0.0162, -0.0237, -0.0256,  0.0066,\n",
              "                      -0.0139,  0.0388, -0.0305,  0.0425,  0.0337,  0.0287,  0.0316, -0.0157,\n",
              "                      -0.0351, -0.0231, -0.0337, -0.0194, -0.0254,  0.0300,  0.0038, -0.0227,\n",
              "                      -0.0241, -0.0370,  0.0323,  0.0063, -0.0016,  0.0007, -0.0169,  0.0389,\n",
              "                       0.0071,  0.0274,  0.0400,  0.0298,  0.0330, -0.0118, -0.0232, -0.0073,\n",
              "                       0.0026, -0.0304,  0.0260,  0.0134, -0.0038, -0.0307,  0.0079, -0.0336,\n",
              "                      -0.0069, -0.0205, -0.0052,  0.0344,  0.0176, -0.0239,  0.0231, -0.0174,\n",
              "                       0.0270,  0.0220,  0.0034, -0.0302,  0.0431, -0.0423,  0.0107, -0.0124,\n",
              "                      -0.0122, -0.0189,  0.0098, -0.0147,  0.0196,  0.0045,  0.0266,  0.0381,\n",
              "                       0.0193,  0.0194, -0.0287, -0.0014,  0.0084, -0.0165,  0.0138, -0.0110,\n",
              "                      -0.0198, -0.0188,  0.0363,  0.0107, -0.0422,  0.0046, -0.0333,  0.0046,\n",
              "                      -0.0130,  0.0274,  0.0252, -0.0240, -0.0336,  0.0059,  0.0176, -0.0166],\n",
              "                     device='cuda:0')),\n",
              "             ('layer3.weight',\n",
              "              tensor([[ 0.0433,  0.0470,  0.0360,  ..., -0.0167,  0.0405, -0.0230],\n",
              "                      [-0.0134,  0.0050, -0.0550,  ...,  0.0347,  0.0526, -0.0222],\n",
              "                      [-0.0286, -0.0406, -0.0560,  ..., -0.0403, -0.0195, -0.0237],\n",
              "                      ...,\n",
              "                      [-0.0315,  0.0536,  0.0280,  ...,  0.0267, -0.0547,  0.0233],\n",
              "                      [ 0.0612, -0.0408,  0.0167,  ...,  0.0331,  0.0420,  0.0418],\n",
              "                      [ 0.0215,  0.0012,  0.0020,  ...,  0.0427, -0.0390, -0.0073]],\n",
              "                     device='cuda:0')),\n",
              "             ('layer3.bias',\n",
              "              tensor([-6.1903e-02, -6.2072e-02,  3.3640e-03, -1.2563e-02,  1.3787e-02,\n",
              "                       4.1869e-02,  3.7387e-02, -2.5279e-02, -3.9896e-02,  4.6287e-02,\n",
              "                       5.0696e-02, -3.9744e-02, -1.2686e-02, -4.8351e-04,  4.6858e-02,\n",
              "                      -7.7202e-03,  6.0121e-02,  5.0840e-02, -1.4586e-02,  3.5112e-02,\n",
              "                      -1.3082e-02,  5.0611e-02,  2.4583e-02,  6.1075e-03, -2.6878e-02,\n",
              "                      -2.7887e-02, -3.8276e-02,  4.0061e-02, -4.7629e-02, -3.7148e-02,\n",
              "                      -4.3196e-02, -1.8419e-02,  4.9494e-02,  5.9128e-02, -6.1348e-02,\n",
              "                       3.0402e-02, -1.8091e-02,  4.8563e-02, -5.4918e-02,  1.6016e-02,\n",
              "                      -1.3330e-02, -1.2343e-02,  5.3998e-02,  3.9428e-02,  4.9757e-02,\n",
              "                      -1.5294e-02,  6.0728e-02,  2.4433e-02, -5.1985e-02, -5.7037e-02,\n",
              "                       5.7811e-02,  3.0736e-02,  5.8535e-02,  4.8666e-02, -1.2698e-02,\n",
              "                      -1.0766e-02,  2.4161e-02,  3.9167e-02,  4.4245e-02, -5.7710e-02,\n",
              "                      -6.0888e-02,  6.3817e-03, -2.4664e-02, -6.1044e-02,  5.4002e-02,\n",
              "                       2.1109e-02, -1.6584e-02, -8.1708e-03,  2.9311e-02,  3.1488e-02,\n",
              "                      -2.5089e-03,  1.2165e-02,  4.2569e-02,  2.3990e-02,  1.6547e-02,\n",
              "                      -1.2231e-02,  1.1007e-02, -4.3185e-02, -4.9200e-03, -3.9245e-02,\n",
              "                       3.1503e-02, -1.0541e-02,  5.1247e-02, -3.8066e-02,  5.1846e-02,\n",
              "                      -2.9297e-02,  2.0585e-02,  1.6624e-02, -2.2587e-02,  4.8705e-02,\n",
              "                      -8.2158e-05,  1.1425e-02,  7.3943e-03,  2.4059e-02,  5.9733e-02,\n",
              "                       1.0998e-02, -2.1116e-02, -1.0463e-02,  2.5892e-02,  6.1860e-02,\n",
              "                       7.0133e-03,  5.8457e-02,  4.5156e-03,  1.3184e-02,  4.5161e-02,\n",
              "                       1.0834e-02, -6.2367e-02,  3.7035e-02, -3.5202e-03, -3.8929e-02,\n",
              "                       2.2562e-02, -1.4625e-02,  1.5474e-02,  3.4018e-02,  2.5081e-02,\n",
              "                      -2.2801e-02,  4.9251e-02, -1.1361e-02,  2.4937e-02,  1.5496e-02,\n",
              "                       3.5063e-02,  3.3397e-02,  1.6018e-02, -2.8540e-02,  4.3515e-02,\n",
              "                      -4.7779e-02, -2.8292e-02, -5.1217e-02], device='cuda:0')),\n",
              "             ('layer4.weight',\n",
              "              tensor([[ 0.0257,  0.0663, -0.0687,  ...,  0.0860,  0.0263,  0.0715],\n",
              "                      [ 0.0392, -0.0385,  0.0641,  ...,  0.0200,  0.0830, -0.0550],\n",
              "                      [ 0.0520,  0.0406, -0.0831,  ...,  0.0844,  0.0030,  0.0193],\n",
              "                      ...,\n",
              "                      [-0.0717, -0.0829,  0.0434,  ..., -0.0119, -0.0153,  0.0525],\n",
              "                      [-0.0067, -0.0329, -0.0642,  ..., -0.0266, -0.0520, -0.0476],\n",
              "                      [-0.0841,  0.0565, -0.0356,  ..., -0.0530, -0.0214,  0.0284]],\n",
              "                     device='cuda:0')),\n",
              "             ('layer4.bias',\n",
              "              tensor([-0.0816,  0.0770,  0.0222,  0.0537, -0.0309, -0.0405,  0.0374, -0.0362,\n",
              "                      -0.0692, -0.0191, -0.0023,  0.0449,  0.0664, -0.0765, -0.0792,  0.0401,\n",
              "                       0.0408, -0.0016, -0.0621, -0.0158,  0.0569, -0.0426, -0.0681,  0.0312,\n",
              "                       0.0471,  0.0433,  0.0298, -0.0270, -0.0778, -0.0668,  0.0016,  0.0868,\n",
              "                       0.0482, -0.0244, -0.0751, -0.0190,  0.0511, -0.0532, -0.0454, -0.0662,\n",
              "                      -0.0350,  0.0423,  0.0803, -0.0782, -0.0704, -0.0054,  0.0768, -0.0658,\n",
              "                       0.0801,  0.0009,  0.0528,  0.0454,  0.0387,  0.0382, -0.0123, -0.0701,\n",
              "                       0.0715, -0.0564,  0.0355,  0.0840,  0.0119, -0.0701,  0.0280, -0.0074],\n",
              "                     device='cuda:0')),\n",
              "             ('layer5.weight',\n",
              "              tensor([[-0.0137, -0.0152, -0.0068,  ...,  0.0322,  0.1049, -0.0274],\n",
              "                      [-0.0984,  0.0889,  0.0589,  ...,  0.0547, -0.0487,  0.1228],\n",
              "                      [-0.0921,  0.0812,  0.0006,  ..., -0.0905, -0.1093,  0.1111],\n",
              "                      ...,\n",
              "                      [ 0.0575,  0.0813,  0.0493,  ...,  0.0525, -0.0145, -0.0070],\n",
              "                      [ 0.0191,  0.0965,  0.1232,  ..., -0.0063,  0.0038,  0.0590],\n",
              "                      [-0.0720, -0.0640, -0.0827,  ...,  0.0297,  0.0541,  0.1240]],\n",
              "                     device='cuda:0')),\n",
              "             ('layer5.bias',\n",
              "              tensor([-0.0384, -0.0521,  0.0660, -0.0247, -0.0654,  0.0704, -0.0102, -0.0255,\n",
              "                       0.0274, -0.0467, -0.0686, -0.0502, -0.0721,  0.0270,  0.0389,  0.0464,\n",
              "                      -0.1097, -0.0029,  0.0514, -0.0606, -0.0576,  0.0874,  0.0107, -0.1100,\n",
              "                      -0.1200,  0.1243,  0.0146,  0.0216,  0.0576, -0.0462, -0.0724,  0.0344],\n",
              "                     device='cuda:0')),\n",
              "             ('layer6.weight',\n",
              "              tensor([[-0.1012, -0.1088,  0.1517,  0.1456, -0.1430, -0.1548,  0.1445,  0.0566,\n",
              "                        0.0940, -0.1165, -0.0346,  0.0115, -0.1065, -0.1011, -0.0287, -0.1070,\n",
              "                       -0.1183, -0.1530, -0.1092,  0.0924, -0.0258, -0.0711,  0.0285, -0.0829,\n",
              "                       -0.1535, -0.1544, -0.0590,  0.1527,  0.0366,  0.0917,  0.0190,  0.1238],\n",
              "                      [ 0.0887, -0.0956,  0.0652, -0.0026,  0.0847, -0.1366,  0.1183, -0.1655,\n",
              "                        0.0129, -0.0273, -0.0333, -0.0239, -0.0515,  0.0378,  0.0492,  0.1726,\n",
              "                        0.0824,  0.0573,  0.1574, -0.1481,  0.0101,  0.1552, -0.1347, -0.1749,\n",
              "                       -0.0290, -0.1185,  0.1258,  0.0830, -0.1028, -0.0888, -0.1768, -0.1186],\n",
              "                      [ 0.0839,  0.0420,  0.1755, -0.0925, -0.0680,  0.0226, -0.0294,  0.1736,\n",
              "                       -0.1218, -0.0128,  0.0574,  0.0380,  0.0496,  0.0114,  0.0208, -0.0059,\n",
              "                       -0.0581, -0.0600, -0.1730,  0.0360,  0.1639,  0.1401, -0.0601, -0.0553,\n",
              "                        0.0201, -0.0824,  0.1071, -0.1493, -0.1262, -0.0523, -0.1337,  0.1054],\n",
              "                      [-0.1119,  0.1406,  0.1304, -0.1753, -0.1092,  0.1010,  0.0300, -0.0895,\n",
              "                       -0.1374, -0.1488,  0.0890,  0.0277,  0.1205,  0.1398, -0.0049,  0.1307,\n",
              "                       -0.0284,  0.0465,  0.1441, -0.0774, -0.1081, -0.0507, -0.1113, -0.0927,\n",
              "                       -0.0097,  0.1726,  0.0351, -0.1522, -0.1220,  0.0553, -0.0063,  0.1471],\n",
              "                      [ 0.0870,  0.0576, -0.0899, -0.0381, -0.0937,  0.0351,  0.0219,  0.1141,\n",
              "                       -0.1136,  0.0427, -0.1141,  0.0416, -0.0705,  0.0286,  0.0955,  0.0841,\n",
              "                        0.1246,  0.1520, -0.0869, -0.0966, -0.1203, -0.1142,  0.0774,  0.0521,\n",
              "                        0.1561, -0.0671,  0.1119,  0.1710,  0.0800, -0.1034, -0.0346, -0.1049],\n",
              "                      [ 0.1070,  0.1058,  0.0604,  0.0755, -0.1393, -0.1229, -0.0820,  0.0298,\n",
              "                       -0.0304,  0.0211, -0.1458, -0.0460,  0.0957,  0.1304, -0.0379,  0.1536,\n",
              "                        0.1389,  0.0628,  0.1730, -0.0283,  0.0833, -0.0657, -0.1005, -0.0241,\n",
              "                        0.1117, -0.1069, -0.0571,  0.1312, -0.1718, -0.0603, -0.0016, -0.0801],\n",
              "                      [ 0.0263, -0.0820,  0.0267, -0.0341, -0.1579,  0.0096,  0.1588,  0.0399,\n",
              "                       -0.0243,  0.0704,  0.1711, -0.1524, -0.0259, -0.1109,  0.1036, -0.0376,\n",
              "                        0.0074, -0.0252, -0.0147, -0.1064, -0.1118,  0.0215, -0.0318,  0.0198,\n",
              "                       -0.0494,  0.0358,  0.0098, -0.1123,  0.0695,  0.1725,  0.0507, -0.0996],\n",
              "                      [-0.0328,  0.0687, -0.0877,  0.0226, -0.1456, -0.0252, -0.0587, -0.0964,\n",
              "                        0.0461,  0.0284, -0.1061, -0.1616, -0.0206, -0.1347, -0.0409,  0.0558,\n",
              "                       -0.1353, -0.1355, -0.0235, -0.0114, -0.1015, -0.1476,  0.0597,  0.1261,\n",
              "                        0.1715,  0.0493, -0.0839,  0.1761,  0.0606, -0.0435, -0.0894,  0.0460],\n",
              "                      [ 0.0090,  0.1312, -0.0581,  0.0032, -0.0742,  0.1200, -0.0744, -0.0811,\n",
              "                       -0.1511, -0.1148, -0.0897, -0.0796, -0.0160, -0.0174, -0.0369, -0.0926,\n",
              "                        0.1628, -0.1254,  0.0615, -0.1161, -0.1106, -0.1323, -0.0795,  0.0889,\n",
              "                        0.0515,  0.0078, -0.0894, -0.0093,  0.0153,  0.0775,  0.1178, -0.1445],\n",
              "                      [-0.0815, -0.1501,  0.0007, -0.0697,  0.0222,  0.1322, -0.1003, -0.1049,\n",
              "                       -0.0578,  0.1762, -0.0563, -0.0412, -0.0357,  0.1057,  0.1056, -0.1206,\n",
              "                        0.1092, -0.0710, -0.1460, -0.1517,  0.0524,  0.1310, -0.0406, -0.0956,\n",
              "                       -0.1571,  0.0620, -0.1041,  0.0237,  0.1520, -0.0460, -0.0935, -0.0701]],\n",
              "                     device='cuda:0')),\n",
              "             ('layer6.bias',\n",
              "              tensor([-0.1725,  0.0210,  0.1585, -0.0955, -0.1403, -0.1570, -0.0172,  0.0270,\n",
              "                      -0.1573, -0.1457], device='cuda:0'))])"
            ]
          },
          "metadata": {},
          "execution_count": 14
        }
      ]
    },
    {
      "cell_type": "code",
      "source": [
        "# Create the loss function\n",
        "loss_fn = nn.CrossEntropyLoss()\n",
        "\n",
        "# Create the optimizer\n",
        "optimizer = torch.optim.Adam(params=model.parameters(), lr=0.001)"
      ],
      "metadata": {
        "id": "QatdblUoTDwa"
      },
      "execution_count": null,
      "outputs": []
    },
    {
      "cell_type": "code",
      "source": [
        "import torch\n",
        "from tqdm import tqdm\n",
        "\n",
        "def train(train_dataloader, test_dataloader, model, loss_fn, optimizer, epochs, device, val_interval=1):\n",
        "    train_loss_values = []\n",
        "    val_loss_values = []\n",
        "    val_accuracy_values = []\n",
        "\n",
        "    # Training loop\n",
        "    for epoch in range(epochs):\n",
        "        print(\"-\" * 10)\n",
        "        print(f\"epoch {epoch + 1}/{epochs}\")\n",
        "\n",
        "        # set model on training mode\n",
        "        model.train()\n",
        "\n",
        "        epoch_loss = 0\n",
        "        step = 0\n",
        "        for batch_data in tqdm(train_dataloader):\n",
        "            step += 1\n",
        "            inputs, labels = batch_data[0].to(device), batch_data[1].to(device)\n",
        "\n",
        "            outputs = model(inputs)\n",
        "            loss = loss_fn(outputs, labels)   # Batch loss\n",
        "\n",
        "            optimizer.zero_grad()\n",
        "\n",
        "            loss.backward()\n",
        "            optimizer.step()\n",
        "\n",
        "            epoch_loss += loss.item()\n",
        "\n",
        "        epoch_loss /= step\n",
        "        train_loss_values.append(epoch_loss)\n",
        "        print(f\"Epoch {epoch + 1} average training loss: {epoch_loss:.4f}\")\n",
        "\n",
        "        # Validation loop\n",
        "        if (epoch + 1) % val_interval == 0:\n",
        "\n",
        "           # Setting model in eval mode\n",
        "            model.eval()\n",
        "\n",
        "\n",
        "            val_epoch_loss = 0\n",
        "            correct_count = 0\n",
        "\n",
        "            with torch.inference_mode():  # with torch.no_grad():\n",
        "\n",
        "                val_step = 0\n",
        "                for val_data in test_dataloader:\n",
        "                    val_step += 1\n",
        "                    val_inputs, val_labels = val_data[0].to(device), val_data[1].to(device)\n",
        "                    outputs = model(val_inputs)\n",
        "                    loss = loss_fn(outputs, val_labels)   # Batch loss\n",
        "                    val_epoch_loss += loss.item()\n",
        "                    # outputs.argmax(1) it gives the index of the maximum value of row in the tensor\n",
        "                    correct_count += (outputs.argmax(1) == val_labels).type(torch.float).sum().item()\n",
        "                    # correct_count ~ kati ota labels correctly predict vayo tyo num store garxa\n",
        "\n",
        "            val_epoch_loss /= val_step\n",
        "            accuracy = correct_count / len(test_dataloader.dataset)\n",
        "            val_loss_values.append(val_epoch_loss)\n",
        "            val_accuracy_values.append(accuracy)\n",
        "            print(f\"Epoch {epoch + 1} average validation loss: {val_epoch_loss:.4f}\")\n",
        "            print(f\"Validation Accuracy: {100 * accuracy:.1f}% \\n\")\n",
        "\n",
        "    return train_loss_values, val_loss_values, val_accuracy_values\n"
      ],
      "metadata": {
        "id": "dQ-Uip0h6znw"
      },
      "execution_count": null,
      "outputs": []
    },
    {
      "cell_type": "code",
      "source": [
        "len(train_dataloader)*32"
      ],
      "metadata": {
        "colab": {
          "base_uri": "https://localhost:8080/"
        },
        "id": "05tssUVz-D2P",
        "outputId": "9544c1f6-8d2b-4f77-c3e5-55c25d14a5d4"
      },
      "execution_count": null,
      "outputs": [
        {
          "output_type": "execute_result",
          "data": {
            "text/plain": [
              "60000"
            ]
          },
          "metadata": {},
          "execution_count": 17
        }
      ]
    },
    {
      "cell_type": "code",
      "source": [
        "epoches=10\n",
        "train_loss_values, val_loss_values, val_accuracy_values = train(train_dataloader, test_dataloader, model, loss_fn, optimizer, epoches, device, val_interval=1)"
      ],
      "metadata": {
        "colab": {
          "base_uri": "https://localhost:8080/"
        },
        "id": "jtw0708PGbSk",
        "outputId": "e8adc820-b6f9-470d-ac08-37825bb2adc4"
      },
      "execution_count": null,
      "outputs": [
        {
          "output_type": "stream",
          "name": "stdout",
          "text": [
            "----------\n",
            "epoch 1/10\n"
          ]
        },
        {
          "output_type": "stream",
          "name": "stderr",
          "text": [
            "100%|██████████| 1875/1875 [00:26<00:00, 70.86it/s]\n"
          ]
        },
        {
          "output_type": "stream",
          "name": "stdout",
          "text": [
            "Epoch 1 average training loss: 0.6019\n",
            "Epoch 1 average validation loss: 0.4713\n",
            "Validation Accuracy: 82.9% \n",
            "\n",
            "----------\n",
            "epoch 2/10\n"
          ]
        },
        {
          "output_type": "stream",
          "name": "stderr",
          "text": [
            "100%|██████████| 1875/1875 [00:17<00:00, 105.28it/s]\n"
          ]
        },
        {
          "output_type": "stream",
          "name": "stdout",
          "text": [
            "Epoch 2 average training loss: 0.4419\n",
            "Epoch 2 average validation loss: 0.4273\n",
            "Validation Accuracy: 84.8% \n",
            "\n",
            "----------\n",
            "epoch 3/10\n"
          ]
        },
        {
          "output_type": "stream",
          "name": "stderr",
          "text": [
            "100%|██████████| 1875/1875 [00:17<00:00, 109.45it/s]\n"
          ]
        },
        {
          "output_type": "stream",
          "name": "stdout",
          "text": [
            "Epoch 3 average training loss: 0.4040\n",
            "Epoch 3 average validation loss: 0.3990\n",
            "Validation Accuracy: 85.9% \n",
            "\n",
            "----------\n",
            "epoch 4/10\n"
          ]
        },
        {
          "output_type": "stream",
          "name": "stderr",
          "text": [
            "100%|██████████| 1875/1875 [00:18<00:00, 102.92it/s]\n"
          ]
        },
        {
          "output_type": "stream",
          "name": "stdout",
          "text": [
            "Epoch 4 average training loss: 0.3748\n",
            "Epoch 4 average validation loss: 0.4062\n",
            "Validation Accuracy: 85.6% \n",
            "\n",
            "----------\n",
            "epoch 5/10\n"
          ]
        },
        {
          "output_type": "stream",
          "name": "stderr",
          "text": [
            "100%|██████████| 1875/1875 [00:17<00:00, 105.55it/s]\n"
          ]
        },
        {
          "output_type": "stream",
          "name": "stdout",
          "text": [
            "Epoch 5 average training loss: 0.3591\n",
            "Epoch 5 average validation loss: 0.3651\n",
            "Validation Accuracy: 87.0% \n",
            "\n",
            "----------\n",
            "epoch 6/10\n"
          ]
        },
        {
          "output_type": "stream",
          "name": "stderr",
          "text": [
            "100%|██████████| 1875/1875 [00:18<00:00, 103.59it/s]\n"
          ]
        },
        {
          "output_type": "stream",
          "name": "stdout",
          "text": [
            "Epoch 6 average training loss: 0.3449\n",
            "Epoch 6 average validation loss: 0.3579\n",
            "Validation Accuracy: 87.1% \n",
            "\n",
            "----------\n",
            "epoch 7/10\n"
          ]
        },
        {
          "output_type": "stream",
          "name": "stderr",
          "text": [
            "100%|██████████| 1875/1875 [00:17<00:00, 105.52it/s]\n"
          ]
        },
        {
          "output_type": "stream",
          "name": "stdout",
          "text": [
            "Epoch 7 average training loss: 0.3312\n",
            "Epoch 7 average validation loss: 0.3729\n",
            "Validation Accuracy: 86.9% \n",
            "\n",
            "----------\n",
            "epoch 8/10\n"
          ]
        },
        {
          "output_type": "stream",
          "name": "stderr",
          "text": [
            "100%|██████████| 1875/1875 [00:16<00:00, 110.32it/s]\n"
          ]
        },
        {
          "output_type": "stream",
          "name": "stdout",
          "text": [
            "Epoch 8 average training loss: 0.3214\n",
            "Epoch 8 average validation loss: 0.3734\n",
            "Validation Accuracy: 86.9% \n",
            "\n",
            "----------\n",
            "epoch 9/10\n"
          ]
        },
        {
          "output_type": "stream",
          "name": "stderr",
          "text": [
            "100%|██████████| 1875/1875 [00:17<00:00, 110.15it/s]\n"
          ]
        },
        {
          "output_type": "stream",
          "name": "stdout",
          "text": [
            "Epoch 9 average training loss: 0.3145\n",
            "Epoch 9 average validation loss: 0.3509\n",
            "Validation Accuracy: 87.5% \n",
            "\n",
            "----------\n",
            "epoch 10/10\n"
          ]
        },
        {
          "output_type": "stream",
          "name": "stderr",
          "text": [
            "100%|██████████| 1875/1875 [00:18<00:00, 100.58it/s]\n"
          ]
        },
        {
          "output_type": "stream",
          "name": "stdout",
          "text": [
            "Epoch 10 average training loss: 0.3095\n",
            "Epoch 10 average validation loss: 0.3546\n",
            "Validation Accuracy: 87.6% \n",
            "\n"
          ]
        }
      ]
    },
    {
      "cell_type": "code",
      "source": [
        "\n",
        "val_interval = 1\n",
        "plt.figure(figsize=(15, 5))\n",
        "\n",
        "# Subplot for training and validation loss\n",
        "plt.subplot(1, 2, 1) # one row 2 columns first box ma yo plot aaune\n",
        "plt.title(\"Loss Plot\")\n",
        "train_num_epoch = [i + 1 for i in range(len(train_loss_values))]\n",
        "val_num_epoch = [val_interval * (i + 1) for i in range(len(val_loss_values))]\n",
        "plt.plot(val_num_epoch, val_loss_values)\n",
        "plt.plot(train_num_epoch, train_loss_values)\n",
        "plt.legend([\"Validation Loss\", \"Training Loss\"])\n",
        "plt.xlabel(\"Epochs\")\n",
        "plt.ylabel(\"Average Epoch Loss\")\n",
        "\n",
        "# Subplot for validation accuracy\n",
        "plt.subplot(1, 2, 2)\n",
        "val_num_epoch = [val_interval * (i + 1) for i in range(len(val_accuracy_values))]\n",
        "plt.plot(val_num_epoch, val_accuracy_values)\n",
        "plt.title(\"Accuracy plot\")\n",
        "plt.xlabel(\"Epochs\")\n",
        "plt.ylabel(\"Accuracy\")\n",
        "plt.show()"
      ],
      "metadata": {
        "id": "iiSB3ykKGj_G",
        "colab": {
          "base_uri": "https://localhost:8080/",
          "height": 487
        },
        "outputId": "bda02e71-eaa5-42c5-933c-5b2820c22f43"
      },
      "execution_count": null,
      "outputs": [
        {
          "output_type": "display_data",
          "data": {
            "text/plain": [
              "<Figure size 1500x500 with 2 Axes>"
            ],
            "image/png": "[encoded data removed]"
          },
          "metadata": {}
        }
      ]
    },
    {
      "cell_type": "code",
      "source": [
        "print(f\" The test image shape is : {list(test_data[122][0].shape)}\\n\")\n",
        "print(\"channel=1, height=28px width=28px\")"
      ],
      "metadata": {
        "id": "yqAS5wzSK_uj",
        "colab": {
          "base_uri": "https://localhost:8080/"
        },
        "outputId": "d469ffa1-8208-4ddc-cc5e-bd658bad1c64"
      },
      "execution_count": null,
      "outputs": [
        {
          "output_type": "stream",
          "name": "stdout",
          "text": [
            " The test image shape is : [1, 28, 28]\n",
            "\n",
            "channel=1, height=28px width=28px\n"
          ]
        }
      ]
    },
    {
      "cell_type": "code",
      "source": [
        "image, label= test_data[700]\n",
        "image=image.unsqueeze(dim=0).to(device) #adding batch dimension\n",
        "print(f\" After Adding Batchsize our new test image shape is : {list(image.shape)}\\n It is Image of : {labels_map[label]}\")"
      ],
      "metadata": {
        "id": "Ooh4PA-9WjF5",
        "colab": {
          "base_uri": "https://localhost:8080/"
        },
        "outputId": "82fc32df-db3c-419c-e2fc-51ce2b5dbfdf"
      },
      "execution_count": null,
      "outputs": [
        {
          "output_type": "stream",
          "name": "stdout",
          "text": [
            " After Adding Batchsize our new test image shape is : [1, 1, 28, 28]\n",
            " It is Image of : Bag\n"
          ]
        }
      ]
    },
    {
      "cell_type": "code",
      "source": [
        "model.to(device)\n",
        "model.eval()\n",
        "\n",
        "with torch.inference_mode():\n",
        "    plt.figure(figsize=(10,8))\n",
        "    predection=model(image)\n",
        "    output=predection.argmax().item()\n",
        "    plt.title(f\"True Label: {labels_map[label]} \\n\\n Predected Label: {labels_map[output]} \\n\")\n",
        "    plt.imshow(image.squeeze().cpu()) # image.squeeze().cpu().shape gives [28, 28]\n",
        "    plt.axis(\"off\")\n",
        "    plt.plot()"
      ],
      "metadata": {
        "id": "LITUR0ZJY5mr",
        "colab": {
          "base_uri": "https://localhost:8080/",
          "height": 737
        },
        "outputId": "41eda79a-ec64-4a9d-f461-d673e0ca23fe"
      },
      "execution_count": null,
      "outputs": [
        {
          "output_type": "display_data",
          "data": {
            "text/plain": [
              "<Figure size 1000x800 with 1 Axes>"
            ],
            "image/png": "[encoded data removed]"
          },
          "metadata": {}
        }
      ]
    },
    {
      "cell_type": "markdown",
      "source": [
        "### Model Saving"
      ],
      "metadata": {
        "id": "l33clP3BfBX6"
      }
    },
    {
      "cell_type": "markdown",
      "source": [
        "#### Saving the entire model\n",
        "* When we save the model with this approach, we could easily load the model without needing its architecture.\n",
        "* But we could not resume training."
      ],
      "metadata": {
        "id": "7fRFI_JBe-Ix"
      }
    },
    {
      "cell_type": "code",
      "source": [
        "torch.save(model, \"model.pth\")"
      ],
      "metadata": {
        "id": "4f9owZKoe3IX"
      },
      "execution_count": null,
      "outputs": []
    },
    {
      "cell_type": "markdown",
      "source": [
        "#### Loading the saved model"
      ],
      "metadata": {
        "id": "RplboBbnfsBC"
      }
    },
    {
      "cell_type": "code",
      "source": [
        "loaded_model = torch.load(\"model.pth\")\n",
        "loaded_model"
      ],
      "metadata": {
        "id": "ptK4wOH5foa5",
        "colab": {
          "base_uri": "https://localhost:8080/"
        },
        "outputId": "14fb0eb3-0559-4517-db1a-1068fdfafa87"
      },
      "execution_count": null,
      "outputs": [
        {
          "output_type": "execute_result",
          "data": {
            "text/plain": [
              "ImageClassifier(\n",
              "  (flatten): Flatten(start_dim=1, end_dim=-1)\n",
              "  (layer1): Linear(in_features=784, out_features=512, bias=True)\n",
              "  (layer2): Linear(in_features=512, out_features=256, bias=True)\n",
              "  (layer3): Linear(in_features=256, out_features=128, bias=True)\n",
              "  (layer4): Linear(in_features=128, out_features=64, bias=True)\n",
              "  (layer5): Linear(in_features=64, out_features=32, bias=True)\n",
              "  (layer6): Linear(in_features=32, out_features=10, bias=True)\n",
              "  (do): Dropout(p=0.2, inplace=False)\n",
              ")"
            ]
          },
          "metadata": {},
          "execution_count": 24
        }
      ]
    },
    {
      "cell_type": "markdown",
      "source": [
        "#### Saving model state and relevant information\n",
        "* When we save the model with this approach, we need to load the model architecture first and then only we could load the weights.\n",
        "* We could resume training from the saved checkpoint."
      ],
      "metadata": {
        "id": "k-S6GolAgO_6"
      }
    },
    {
      "cell_type": "code",
      "source": [
        "checkpoint = {\n",
        "    \"model_state\": model.state_dict(),\n",
        "    \"optimizer_state\": optimizer.state_dict(),\n",
        "    \"train_loss\": train_loss_values,\n",
        "    \"val_loss\": val_loss_values,\n",
        "    \"val_accuracy\": val_accuracy_values\n",
        "}\n",
        "torch.save(checkpoint, 'checkpoint.pth.tar')"
      ],
      "metadata": {
        "id": "-dJ8rbx7gJXw"
      },
      "execution_count": null,
      "outputs": []
    },
    {
      "cell_type": "markdown",
      "source": [
        "#### Loading the saved checkpoint"
      ],
      "metadata": {
        "id": "ts5UhjLYggeg"
      }
    },
    {
      "cell_type": "code",
      "source": [
        "# Loading the checkpoint\n",
        "checkpoint = torch.load(\"/content/checkpoint.pth.tar\")\n",
        "\n",
        "# First load the model architecture i.e. instantiate the model class and optimizer\n",
        "Lmodel = ImageClassifier()\n",
        "optimizer = torch.optim.Adam(model.parameters(), lr=0.001)\n",
        "\n",
        "# Then load the model weights and optimizer state\n",
        "Lmodel.load_state_dict(checkpoint['model_state'])\n",
        "optimizer.load_state_dict(checkpoint['optimizer_state'])\n",
        "\n",
        "# We can use these values for plotting\n",
        "train_loss_values = checkpoint['train_loss']\n",
        "val_loss_values = checkpoint['val_loss']\n",
        "val_accuracy_values = checkpoint['val_accuracy']"
      ],
      "metadata": {
        "id": "cytFr0MSgbxp"
      },
      "execution_count": null,
      "outputs": []
    },
    {
      "cell_type": "code",
      "source": [
        "image, label= test_data[200]\n",
        "image=image.unsqueeze(dim=0).to(device)"
      ],
      "metadata": {
        "id": "g5I5-t1Uhlj1"
      },
      "execution_count": null,
      "outputs": []
    },
    {
      "cell_type": "code",
      "source": [
        "Lmodel.to(device)\n",
        "Lmodel.eval()\n",
        "\n",
        "with torch.inference_mode():\n",
        "    plt.figure(figsize=(10,8))\n",
        "    predection=Lmodel(image)\n",
        "    output=predection.argmax().item()\n",
        "    plt.title(f\"True Label: {labels_map[label]} \\n\\n Predected Label: {labels_map[output]} \\n\")\n",
        "    plt.imshow(image.squeeze().cpu()) # image.squeeze().cpu().shape gives [28, 28]\n",
        "    plt.axis(\"off\")\n",
        "    plt.plot()"
      ],
      "metadata": {
        "id": "c8dpCk73g6G_",
        "colab": {
          "base_uri": "https://localhost:8080/",
          "height": 737
        },
        "outputId": "c0d195a0-dac0-4c6e-f161-caa7e1e9a938"
      },
      "execution_count": null,
      "outputs": [
        {
          "output_type": "display_data",
          "data": {
            "text/plain": [
              "<Figure size 1000x800 with 1 Axes>"
            ],
            "image/png": "[encoded data removed]"
          },
          "metadata": {}
        }
      ]
    },
    {
      "cell_type": "markdown",
      "source": [
        "### Model Quantization and Conversion\n",
        "* Model quantization refers to techniques for performing computations and storing tensors at lower bitwidths (usually int8) than floating point precision.\n",
        "* Quantization enables:\n",
        "    * 4x reduction in model size;\n",
        "    * 2-4x reduction in memory bandwidth;\n",
        "    * 2-4x faster inference due to savings in memory bandwidth and faster compute with int8 arithmetic (the exact speed up varies depending on the hardware, the runtime, and the model).\n",
        "* In model conversion, we will convert the native pytorch model to ONNX(Open Neural Network Exchange) format which is open standard format for representing machine learning models"
      ],
      "metadata": {
        "id": "P39eZFAJh3cC"
      }
    },
    {
      "cell_type": "markdown",
      "source": [
        "#### Quantizating model to int8 Precision"
      ],
      "metadata": {
        "id": "Hkm1nxrDjIN2"
      }
    },
    {
      "cell_type": "code",
      "source": [
        "convert_model = model\n",
        "quantized_model = torch.quantization.quantize_dynamic(model, {torch.nn.Linear}, dtype=torch.qint8)\n",
        "print(quantized_model)"
      ],
      "metadata": {
        "id": "INEKIRbLh38g",
        "colab": {
          "base_uri": "https://localhost:8080/"
        },
        "outputId": "d516e046-7718-492d-c795-288d671d6704"
      },
      "execution_count": null,
      "outputs": [
        {
          "output_type": "stream",
          "name": "stdout",
          "text": [
            "ImageClassifier(\n",
            "  (flatten): Flatten(start_dim=1, end_dim=-1)\n",
            "  (layer1): DynamicQuantizedLinear(in_features=784, out_features=512, dtype=torch.qint8, qscheme=torch.per_tensor_affine)\n",
            "  (layer2): DynamicQuantizedLinear(in_features=512, out_features=256, dtype=torch.qint8, qscheme=torch.per_tensor_affine)\n",
            "  (layer3): DynamicQuantizedLinear(in_features=256, out_features=128, dtype=torch.qint8, qscheme=torch.per_tensor_affine)\n",
            "  (layer4): DynamicQuantizedLinear(in_features=128, out_features=64, dtype=torch.qint8, qscheme=torch.per_tensor_affine)\n",
            "  (layer5): DynamicQuantizedLinear(in_features=64, out_features=32, dtype=torch.qint8, qscheme=torch.per_tensor_affine)\n",
            "  (layer6): DynamicQuantizedLinear(in_features=32, out_features=10, dtype=torch.qint8, qscheme=torch.per_tensor_affine)\n",
            "  (do): Dropout(p=0.2, inplace=False)\n",
            ")\n"
          ]
        }
      ]
    },
    {
      "cell_type": "code",
      "source": [
        "# Savimg quantized model\n",
        "torch.save(quantized_model, \"quantized_model.pth\")"
      ],
      "metadata": {
        "id": "dMSn0DQAjf_x"
      },
      "execution_count": null,
      "outputs": []
    },
    {
      "cell_type": "markdown",
      "source": [
        "### ONNX Conversion"
      ],
      "metadata": {
        "id": "7Us5Quo-jvDL"
      }
    },
    {
      "cell_type": "code",
      "source": [
        "# Install the dependencies for model conversion\n",
        "!pip -q install onnxruntime\n",
        "!pip -q install onnx"
      ],
      "metadata": {
        "id": "r_LT71Y3jrGX",
        "colab": {
          "base_uri": "https://localhost:8080/"
        },
        "outputId": "c2c20081-9a8f-4ddd-f8ca-9811d77bb68b"
      },
      "execution_count": null,
      "outputs": [
        {
          "output_type": "stream",
          "name": "stdout",
          "text": [
            "\u001b[2K     \u001b[90m━━━━━━━━━━━━━━━━━━━━━━━━━━━━━━━━━━━━━━━━\u001b[0m \u001b[32m6.8/6.8 MB\u001b[0m \u001b[31m63.3 MB/s\u001b[0m eta \u001b[36m0:00:00\u001b[0m\n",
            "\u001b[2K     \u001b[90m━━━━━━━━━━━━━━━━━━━━━━━━━━━━━━━━━━━━━━━━\u001b[0m \u001b[32m46.0/46.0 kB\u001b[0m \u001b[31m6.9 MB/s\u001b[0m eta \u001b[36m0:00:00\u001b[0m\n",
            "\u001b[2K     \u001b[90m━━━━━━━━━━━━━━━━━━━━━━━━━━━━━━━━━━━━━━━━\u001b[0m \u001b[32m86.8/86.8 kB\u001b[0m \u001b[31m14.1 MB/s\u001b[0m eta \u001b[36m0:00:00\u001b[0m\n",
            "\u001b[2K     \u001b[90m━━━━━━━━━━━━━━━━━━━━━━━━━━━━━━━━━━━━━━━━\u001b[0m \u001b[32m15.9/15.9 MB\u001b[0m \u001b[31m50.2 MB/s\u001b[0m eta \u001b[36m0:00:00\u001b[0m\n",
            "\u001b[?25h"
          ]
        }
      ]
    },
    {
      "cell_type": "code",
      "source": [
        "dummy_input = torch.randn(1, 1, 28, 28).to(device)\n",
        "torch.onnx.export(model.to(device), dummy_input, \"quantized_model.onnx\")\n",
        "\n",
        "'''\n",
        "dummy_input is needed\n",
        "to trace the operations and define the input shape for the model onnx\n",
        "'''"
      ],
      "metadata": {
        "id": "A1Rij1M2kLdP",
        "colab": {
          "base_uri": "https://localhost:8080/",
          "height": 36
        },
        "outputId": "dd21e720-c515-4f0d-edcc-be12280910ea"
      },
      "execution_count": null,
      "outputs": [
        {
          "output_type": "execute_result",
          "data": {
            "text/plain": [
              "'\\ndummy_input is needed\\nto trace the operations and define the input shape for the model onnx\\n'"
            ],
            "application/vnd.google.colaboratory.intrinsic+json": {
              "type": "string"
            }
          },
          "metadata": {},
          "execution_count": 32
        }
      ]
    },
    {
      "cell_type": "markdown",
      "source": [
        "### Inference on Quantized Model"
      ],
      "metadata": {
        "id": "Hp0rptDamkvX"
      }
    },
    {
      "cell_type": "code",
      "source": [
        "# cell 51\n",
        "import onnxruntime as ort\n",
        "\n",
        "EP_list = ['CPUExecutionProvider']\n",
        "ort_sess = ort.InferenceSession(\"quantized_model.onnx\", providers=EP_list)\n",
        "input_name = ort_sess.get_inputs()[0].name\n",
        "\n",
        "image, label = test_data[0]\n",
        "input_data = np.expand_dims(image, axis=0)\n",
        "outputs = ort_sess.run(None, {input_name: input_data})[0]\n",
        "prediction_index = outputs.argmax().item()\n",
        "print(\"Label: \", label)\n",
        "print(\"Predicted: \", prediction_index)"
      ],
      "metadata": {
        "id": "OO4Kp7Zikyp4",
        "colab": {
          "base_uri": "https://localhost:8080/"
        },
        "outputId": "839c241d-b964-4122-d011-42171382a23e"
      },
      "execution_count": null,
      "outputs": [
        {
          "output_type": "stream",
          "name": "stdout",
          "text": [
            "Label:  9\n",
            "Predicted:  9\n"
          ]
        }
      ]
    }
  ]
}