{
  "nbformat": 4,
  "nbformat_minor": 0,
  "metadata": {
    "colab": {
      "provenance": []
    },
    "kernelspec": {
      "name": "python3",
      "display_name": "Python 3"
    },
    "language_info": {
      "name": "python"
    }
  },
  "cells": [
    {
      "cell_type": "code",
      "execution_count": null,
      "metadata": {
        "id": "CbkfJLZbIek9"
      },
      "outputs": [],
      "source": [
        "import torch\n",
        "import numpy as np"
      ]
    },
    {
      "cell_type": "code",
      "source": [
        "scalar= torch.tensor(2)\n",
        "scalar"
      ],
      "metadata": {
        "colab": {
          "base_uri": "https://localhost:8080/"
        },
        "id": "gZYK6yblIk7E",
        "outputId": "52093b9a-3e2a-4eba-da47-dbd2ac66e603"
      },
      "execution_count": null,
      "outputs": [
        {
          "output_type": "execute_result",
          "data": {
            "text/plain": [
              "tensor(2)"
            ]
          },
          "metadata": {},
          "execution_count": 2
        }
      ]
    },
    {
      "cell_type": "code",
      "source": [
        "scalar.ndim, scalar.shape"
      ],
      "metadata": {
        "colab": {
          "base_uri": "https://localhost:8080/"
        },
        "id": "aIKx0waEIzRC",
        "outputId": "4777a3a8-c675-4dd6-e497-cf0c8edd2080"
      },
      "execution_count": null,
      "outputs": [
        {
          "output_type": "execute_result",
          "data": {
            "text/plain": [
              "(0, torch.Size([]))"
            ]
          },
          "metadata": {},
          "execution_count": 10
        }
      ]
    },
    {
      "cell_type": "code",
      "source": [
        "vector= torch.tensor([1,2,3])\n",
        "vector"
      ],
      "metadata": {
        "colab": {
          "base_uri": "https://localhost:8080/"
        },
        "id": "vOGF2bGRI3uh",
        "outputId": "76a24ea9-4136-467f-94d2-7a442aa09122"
      },
      "execution_count": null,
      "outputs": [
        {
          "output_type": "execute_result",
          "data": {
            "text/plain": [
              "tensor([1, 2, 3])"
            ]
          },
          "metadata": {},
          "execution_count": 4
        }
      ]
    },
    {
      "cell_type": "code",
      "source": [
        "vector.ndim , vector.shape"
      ],
      "metadata": {
        "colab": {
          "base_uri": "https://localhost:8080/"
        },
        "id": "lxAzHaEfJCS-",
        "outputId": "f06de170-8dc2-4deb-d27d-cc339e7e16c8"
      },
      "execution_count": null,
      "outputs": [
        {
          "output_type": "execute_result",
          "data": {
            "text/plain": [
              "(1, torch.Size([3]))"
            ]
          },
          "metadata": {},
          "execution_count": 11
        }
      ]
    },
    {
      "cell_type": "code",
      "source": [
        "MATRIX=torch.tensor([[1,2,3],\n",
        "                    [3,4,5]])\n",
        "MATRIX"
      ],
      "metadata": {
        "colab": {
          "base_uri": "https://localhost:8080/"
        },
        "id": "GlvwTbk1JFcR",
        "outputId": "67133f74-ece3-494d-ae89-a0588cea65ca"
      },
      "execution_count": null,
      "outputs": [
        {
          "output_type": "execute_result",
          "data": {
            "text/plain": [
              "tensor([[1, 2, 3],\n",
              "        [3, 4, 5]])"
            ]
          },
          "metadata": {},
          "execution_count": 6
        }
      ]
    },
    {
      "cell_type": "code",
      "source": [
        "MATRIX.ndim, MATRIX.shape"
      ],
      "metadata": {
        "colab": {
          "base_uri": "https://localhost:8080/"
        },
        "id": "DyxKHYAOJZ18",
        "outputId": "44fcd965-b11c-4b7c-edcc-fa615d76aaca"
      },
      "execution_count": null,
      "outputs": [
        {
          "output_type": "execute_result",
          "data": {
            "text/plain": [
              "(2, torch.Size([2, 3]))"
            ]
          },
          "metadata": {},
          "execution_count": 12
        }
      ]
    },
    {
      "cell_type": "code",
      "source": [
        "TENSOR=torch.tensor([[[1,2,3],\n",
        "                      [3,4,5],\n",
        "                      [3,4,5]]])\n",
        "TENSOR"
      ],
      "metadata": {
        "colab": {
          "base_uri": "https://localhost:8080/"
        },
        "id": "TNKulQ33JdAe",
        "outputId": "7fba232a-7d18-4c89-cdd8-977765a67d4b"
      },
      "execution_count": null,
      "outputs": [
        {
          "output_type": "execute_result",
          "data": {
            "text/plain": [
              "tensor([[[1, 2, 3],\n",
              "         [3, 4, 5],\n",
              "         [3, 4, 5]]])"
            ]
          },
          "metadata": {},
          "execution_count": 8
        }
      ]
    },
    {
      "cell_type": "code",
      "source": [
        "TENSOR.ndim,TENSOR.shape"
      ],
      "metadata": {
        "colab": {
          "base_uri": "https://localhost:8080/"
        },
        "id": "AQ4Fc8iyJuS4",
        "outputId": "942df37d-78ed-4f7e-fd13-0e06076b2812"
      },
      "execution_count": null,
      "outputs": [
        {
          "output_type": "execute_result",
          "data": {
            "text/plain": [
              "(3, torch.Size([1, 3, 3]))"
            ]
          },
          "metadata": {},
          "execution_count": 14
        }
      ]
    },
    {
      "cell_type": "code",
      "source": [
        "num_array=np.ones((1,2,3), dtype='int')\n",
        "\n",
        "TENSOR_FROM_NUMPY=torch.tensor(num_array)\n",
        "\n",
        "TENSOR_FROM_NUMPY"
      ],
      "metadata": {
        "colab": {
          "base_uri": "https://localhost:8080/"
        },
        "id": "_76Zp57lJwAT",
        "outputId": "9249e290-0b26-4d3e-e8ec-230207968898"
      },
      "execution_count": null,
      "outputs": [
        {
          "output_type": "execute_result",
          "data": {
            "text/plain": [
              "tensor([[[1, 1, 1],\n",
              "         [1, 1, 1]]])"
            ]
          },
          "metadata": {},
          "execution_count": 23
        }
      ]
    },
    {
      "cell_type": "code",
      "source": [
        "tens_to_numpy=TENSOR_FROM_NUMPY.numpy()\n",
        "tens_to_numpy"
      ],
      "metadata": {
        "colab": {
          "base_uri": "https://localhost:8080/"
        },
        "id": "6eXqaVLSwTcJ",
        "outputId": "69762241-d4b1-4559-9be5-4e65d846bca7"
      },
      "execution_count": null,
      "outputs": [
        {
          "output_type": "execute_result",
          "data": {
            "text/plain": [
              "array([[[1, 1, 1],\n",
              "        [1, 1, 1]]])"
            ]
          },
          "metadata": {},
          "execution_count": 132
        }
      ]
    },
    {
      "cell_type": "markdown",
      "source": [
        "# Random Tensor"
      ],
      "metadata": {
        "id": "GmcFoDTENoJe"
      }
    },
    {
      "cell_type": "code",
      "source": [
        "torch.rand(size=(1,2,3))\n",
        "\n",
        "# or torch.rand((1,2,3))"
      ],
      "metadata": {
        "colab": {
          "base_uri": "https://localhost:8080/"
        },
        "id": "t5Wbc61eKVxR",
        "outputId": "713f12be-def3-48ea-9d63-3555c94d8f48"
      },
      "execution_count": null,
      "outputs": [
        {
          "output_type": "execute_result",
          "data": {
            "text/plain": [
              "tensor([[[0.7805, 0.5581, 0.8158],\n",
              "         [0.9666, 0.0665, 0.2786]]])"
            ]
          },
          "metadata": {},
          "execution_count": 33
        }
      ]
    },
    {
      "cell_type": "code",
      "source": [
        "torch.randint(low=0, high=10, size=(1, 2, 3)) #numer between 0-9 inclusive\n",
        "\n",
        "#or torch.randint(0, 10, size=(1, 2, 3))"
      ],
      "metadata": {
        "colab": {
          "base_uri": "https://localhost:8080/"
        },
        "id": "xrQV60xeLT55",
        "outputId": "386a87b0-37ff-4bd6-b6f4-063bf2dc0825"
      },
      "execution_count": null,
      "outputs": [
        {
          "output_type": "execute_result",
          "data": {
            "text/plain": [
              "tensor([[[9, 5, 3],\n",
              "         [9, 1, 6]]])"
            ]
          },
          "metadata": {},
          "execution_count": 39
        }
      ]
    },
    {
      "cell_type": "code",
      "source": [
        "torch.zeros((1,4,4))"
      ],
      "metadata": {
        "colab": {
          "base_uri": "https://localhost:8080/"
        },
        "id": "nMXi2UepN05g",
        "outputId": "e3ede5fd-4c5c-4ad0-f8bc-261542c7f111"
      },
      "execution_count": null,
      "outputs": [
        {
          "output_type": "execute_result",
          "data": {
            "text/plain": [
              "tensor([[[0., 0., 0., 0.],\n",
              "         [0., 0., 0., 0.],\n",
              "         [0., 0., 0., 0.],\n",
              "         [0., 0., 0., 0.]]])"
            ]
          },
          "metadata": {},
          "execution_count": 49
        }
      ]
    },
    {
      "cell_type": "code",
      "source": [
        "torch.ones((1,2,3))"
      ],
      "metadata": {
        "colab": {
          "base_uri": "https://localhost:8080/"
        },
        "id": "YwjZ7QnJOx59",
        "outputId": "38add768-6330-4eef-cd03-e03b311bbf25"
      },
      "execution_count": null,
      "outputs": [
        {
          "output_type": "execute_result",
          "data": {
            "text/plain": [
              "tensor([[[1., 1., 1.],\n",
              "         [1., 1., 1.]]])"
            ]
          },
          "metadata": {},
          "execution_count": 50
        }
      ]
    },
    {
      "cell_type": "code",
      "source": [
        "one_to_ten=torch.arange(0,11) # get number between 0-9\n",
        "one_to_ten"
      ],
      "metadata": {
        "colab": {
          "base_uri": "https://localhost:8080/"
        },
        "id": "GvWDFH8CO6Gh",
        "outputId": "27b32981-1c92-4743-fde5-3e8f1b3f2b1b"
      },
      "execution_count": null,
      "outputs": [
        {
          "output_type": "execute_result",
          "data": {
            "text/plain": [
              "tensor([ 0,  1,  2,  3,  4,  5,  6,  7,  8,  9, 10])"
            ]
          },
          "metadata": {},
          "execution_count": 53
        }
      ]
    },
    {
      "cell_type": "code",
      "source": [
        "even_num_upto_20=torch.arange(0,21,2) #start end step\n",
        "even_num_upto_20"
      ],
      "metadata": {
        "colab": {
          "base_uri": "https://localhost:8080/"
        },
        "id": "PzhobYKqPK82",
        "outputId": "8f55304b-e8c9-4463-80e0-a10f9fe29263"
      },
      "execution_count": null,
      "outputs": [
        {
          "output_type": "execute_result",
          "data": {
            "text/plain": [
              "tensor([ 0,  2,  4,  6,  8, 10, 12, 14, 16, 18, 20])"
            ]
          },
          "metadata": {},
          "execution_count": 55
        }
      ]
    },
    {
      "cell_type": "code",
      "source": [
        "ten_zero=torch.zeros_like(even_num_upto_20)\n",
        "ten_zero"
      ],
      "metadata": {
        "colab": {
          "base_uri": "https://localhost:8080/"
        },
        "id": "Cg53x0rHP51v",
        "outputId": "704a81b7-6ff7-43a9-becb-7e959b6eb3d7"
      },
      "execution_count": null,
      "outputs": [
        {
          "output_type": "execute_result",
          "data": {
            "text/plain": [
              "tensor([0, 0, 0, 0, 0, 0, 0, 0, 0, 0, 0])"
            ]
          },
          "metadata": {},
          "execution_count": 57
        }
      ]
    },
    {
      "cell_type": "code",
      "source": [
        "ten_zero=torch.ones_like(even_num_upto_20)\n",
        "ten_zero"
      ],
      "metadata": {
        "colab": {
          "base_uri": "https://localhost:8080/"
        },
        "id": "dQwqcqaGVYsE",
        "outputId": "e99ff5da-b3ec-47ad-d9a7-d48dd10935e5"
      },
      "execution_count": null,
      "outputs": [
        {
          "output_type": "execute_result",
          "data": {
            "text/plain": [
              "tensor([1, 1, 1, 1, 1, 1, 1, 1, 1, 1, 1])"
            ]
          },
          "metadata": {},
          "execution_count": 58
        }
      ]
    },
    {
      "cell_type": "markdown",
      "source": [
        "# Tensor Datatypes\n",
        "\n",
        "For all dtypes: ` https://pytorch.org/docs/stable/tensors.html`"
      ],
      "metadata": {
        "id": "NOL-SNwqWrTu"
      }
    },
    {
      "cell_type": "code",
      "source": [
        "# torch.float32 ----> by default tensor dype is float32\n",
        "\n",
        "float_32=torch.tensor([1.,2.,3.],\n",
        "                      dtype=torch.float32, # what data type the tensor is?\n",
        "                      device=None, # what device to use for processing tensors?\n",
        "                      requires_grad=False) # whether or not to track gradients with this tensors operations?\n",
        "float_32.dtype"
      ],
      "metadata": {
        "colab": {
          "base_uri": "https://localhost:8080/"
        },
        "id": "gyBBfxvRVkFR",
        "outputId": "9663bbba-ae06-4f2a-d4e4-9d4cac51a2e9"
      },
      "execution_count": null,
      "outputs": [
        {
          "output_type": "execute_result",
          "data": {
            "text/plain": [
              "torch.float32"
            ]
          },
          "metadata": {},
          "execution_count": 79
        }
      ]
    },
    {
      "cell_type": "code",
      "source": [
        "#torch.float16\n",
        "float_16=torch.tensor([1.,2.,3.],dtype=torch.float16, device=None, requires_grad=False)\n",
        "float_16.dtype"
      ],
      "metadata": {
        "colab": {
          "base_uri": "https://localhost:8080/"
        },
        "id": "zEGr7Ru8XTS2",
        "outputId": "6eab6fe8-b393-45f6-868c-f255dc078f32"
      },
      "execution_count": null,
      "outputs": [
        {
          "output_type": "execute_result",
          "data": {
            "text/plain": [
              "torch.float16"
            ]
          },
          "metadata": {},
          "execution_count": 74
        }
      ]
    },
    {
      "cell_type": "code",
      "source": [
        "# torch.int32\n",
        "int_32=torch.tensor([1.,2.,3.],dtype=torch.int32, device=None, requires_grad=False)\n",
        "print(int_32)"
      ],
      "metadata": {
        "colab": {
          "base_uri": "https://localhost:8080/"
        },
        "id": "0M-DeYLkXl7M",
        "outputId": "48fdd795-564f-464b-dc0a-9b7cdbe21c11"
      },
      "execution_count": null,
      "outputs": [
        {
          "output_type": "stream",
          "name": "stdout",
          "text": [
            "tensor([1, 2, 3], dtype=torch.int32)\n"
          ]
        }
      ]
    },
    {
      "cell_type": "code",
      "source": [
        "# torch.int16\n",
        "int_16=torch.tensor([1.,2.,3.],dtype=torch.int16, device=None, requires_grad=False)\n",
        "print(int_16)"
      ],
      "metadata": {
        "colab": {
          "base_uri": "https://localhost:8080/"
        },
        "id": "eW0LmAUzYJnt",
        "outputId": "2173593b-b183-4f85-b9f6-2cf06f5b45d5"
      },
      "execution_count": null,
      "outputs": [
        {
          "output_type": "stream",
          "name": "stdout",
          "text": [
            "tensor([1, 2, 3], dtype=torch.int16)\n"
          ]
        }
      ]
    },
    {
      "cell_type": "code",
      "source": [
        "# torch.int8\n",
        "int_8=torch.tensor([1.,2.,3.],dtype=torch.int8, device=None, requires_grad=False)\n",
        "print(int_8)"
      ],
      "metadata": {
        "colab": {
          "base_uri": "https://localhost:8080/"
        },
        "id": "gRFdqh8FYYwy",
        "outputId": "1f337524-d71e-4706-908b-655a2c0089e5"
      },
      "execution_count": null,
      "outputs": [
        {
          "output_type": "stream",
          "name": "stdout",
          "text": [
            "tensor([1, 2, 3], dtype=torch.int8)\n"
          ]
        }
      ]
    },
    {
      "cell_type": "markdown",
      "source": [
        "# conversion of tensors dtype"
      ],
      "metadata": {
        "id": "9M_87CExcAKl"
      }
    },
    {
      "cell_type": "code",
      "source": [
        "f16=float_32.type(torch.float16)\n",
        "print(f16)"
      ],
      "metadata": {
        "colab": {
          "base_uri": "https://localhost:8080/"
        },
        "id": "8UYX4DUab_uf",
        "outputId": "463f8bc9-032c-47e1-ba61-355a15858006"
      },
      "execution_count": null,
      "outputs": [
        {
          "output_type": "stream",
          "name": "stdout",
          "text": [
            "tensor([1., 2., 3.], dtype=torch.float16)\n"
          ]
        }
      ]
    },
    {
      "cell_type": "code",
      "source": [
        "int16=float_32.type(torch.int16)\n",
        "print(int16)"
      ],
      "metadata": {
        "colab": {
          "base_uri": "https://localhost:8080/"
        },
        "id": "e1lEo-VBYeVV",
        "outputId": "b9e9cbd7-5c07-491a-ae8c-dec4279ed3a8"
      },
      "execution_count": null,
      "outputs": [
        {
          "output_type": "stream",
          "name": "stdout",
          "text": [
            "tensor([1, 2, 3], dtype=torch.int16)\n"
          ]
        }
      ]
    },
    {
      "cell_type": "markdown",
      "source": [
        "# Tensors Operations"
      ],
      "metadata": {
        "id": "sxMLd0Iof8D0"
      }
    },
    {
      "cell_type": "code",
      "source": [
        "A= torch.tensor([1,2,3])\n",
        "B=torch.tensor([3,4,5])"
      ],
      "metadata": {
        "id": "c-wrJt1EcULn"
      },
      "execution_count": null,
      "outputs": []
    },
    {
      "cell_type": "code",
      "source": [
        "#Addition\n",
        "A+B\n",
        "# torch.add(A,B)"
      ],
      "metadata": {
        "colab": {
          "base_uri": "https://localhost:8080/"
        },
        "id": "qEl_HaB-gFE3",
        "outputId": "408fba19-5c63-4761-cdfd-73b379c97b89"
      },
      "execution_count": null,
      "outputs": [
        {
          "output_type": "execute_result",
          "data": {
            "text/plain": [
              "tensor([4, 6, 8])"
            ]
          },
          "metadata": {},
          "execution_count": 90
        }
      ]
    },
    {
      "cell_type": "code",
      "source": [
        "#Substraction\n",
        "A-B"
      ],
      "metadata": {
        "colab": {
          "base_uri": "https://localhost:8080/"
        },
        "id": "q3I2wHQ_gUWS",
        "outputId": "5a028df5-a525-4252-d6c0-69e85816ee99"
      },
      "execution_count": null,
      "outputs": [
        {
          "output_type": "execute_result",
          "data": {
            "text/plain": [
              "tensor([-2, -2, -2])"
            ]
          },
          "metadata": {},
          "execution_count": 92
        }
      ]
    },
    {
      "cell_type": "code",
      "source": [
        "#Element wise multiply\n",
        "A*B\n",
        "#torch.mul(A,B)"
      ],
      "metadata": {
        "colab": {
          "base_uri": "https://localhost:8080/"
        },
        "id": "MjpBRpIBgc8u",
        "outputId": "4afc3808-cf28-4e20-80c2-9df58211618a"
      },
      "execution_count": null,
      "outputs": [
        {
          "output_type": "execute_result",
          "data": {
            "text/plain": [
              "tensor([ 3,  8, 15])"
            ]
          },
          "metadata": {},
          "execution_count": 95
        }
      ]
    },
    {
      "cell_type": "code",
      "source": [
        "#Matrix Multiplication\n",
        "A@B\n",
        "#torch.matmul(A,B)\n",
        "#torch.mm(A,B)"
      ],
      "metadata": {
        "colab": {
          "base_uri": "https://localhost:8080/"
        },
        "id": "k8k-gSTzhb3k",
        "outputId": "c5c1c122-9b26-450a-a2d1-be0ff55a149c"
      },
      "execution_count": null,
      "outputs": [
        {
          "output_type": "execute_result",
          "data": {
            "text/plain": [
              "tensor(26)"
            ]
          },
          "metadata": {},
          "execution_count": 97
        }
      ]
    },
    {
      "cell_type": "code",
      "source": [
        "#.item() is used to extract number form tesor\n",
        "torch.matmul(A,B).item()"
      ],
      "metadata": {
        "colab": {
          "base_uri": "https://localhost:8080/"
        },
        "id": "XxeqiFz-hhIB",
        "outputId": "fb63c10f-164b-4274-a6fb-8d13d82c3839"
      },
      "execution_count": null,
      "outputs": [
        {
          "output_type": "execute_result",
          "data": {
            "text/plain": [
              "26"
            ]
          },
          "metadata": {},
          "execution_count": 100
        }
      ]
    },
    {
      "cell_type": "markdown",
      "source": [
        "# useful functions"
      ],
      "metadata": {
        "id": "BsZV5FcIrUgH"
      }
    },
    {
      "cell_type": "code",
      "source": [
        "T=torch.arange(0,10)\n",
        "T"
      ],
      "metadata": {
        "colab": {
          "base_uri": "https://localhost:8080/"
        },
        "id": "dIm5uuxfrUJ6",
        "outputId": "4c71b5d4-599b-496b-e42a-8fcfae4724b4"
      },
      "execution_count": null,
      "outputs": [
        {
          "output_type": "execute_result",
          "data": {
            "text/plain": [
              "tensor([0, 1, 2, 3, 4, 5, 6, 7, 8, 9])"
            ]
          },
          "metadata": {},
          "execution_count": 108
        }
      ]
    },
    {
      "cell_type": "code",
      "source": [
        "T.max().item()"
      ],
      "metadata": {
        "colab": {
          "base_uri": "https://localhost:8080/"
        },
        "id": "qP03_ATVhtfk",
        "outputId": "083f21be-c64d-4814-e9e3-4a81fcd224ea"
      },
      "execution_count": null,
      "outputs": [
        {
          "output_type": "execute_result",
          "data": {
            "text/plain": [
              "9"
            ]
          },
          "metadata": {},
          "execution_count": 110
        }
      ]
    },
    {
      "cell_type": "code",
      "source": [
        "T.min().item()"
      ],
      "metadata": {
        "colab": {
          "base_uri": "https://localhost:8080/"
        },
        "id": "mJuKRtS1r50_",
        "outputId": "c0c510df-2933-43f1-b0f7-368f40f21401"
      },
      "execution_count": null,
      "outputs": [
        {
          "output_type": "execute_result",
          "data": {
            "text/plain": [
              "0"
            ]
          },
          "metadata": {},
          "execution_count": 111
        }
      ]
    },
    {
      "cell_type": "code",
      "source": [
        "T.sum().item()"
      ],
      "metadata": {
        "colab": {
          "base_uri": "https://localhost:8080/"
        },
        "id": "6igHqCV8r_iQ",
        "outputId": "92807cce-d032-485b-acd2-9903da8ce8c9"
      },
      "execution_count": null,
      "outputs": [
        {
          "output_type": "execute_result",
          "data": {
            "text/plain": [
              "45"
            ]
          },
          "metadata": {},
          "execution_count": 112
        }
      ]
    },
    {
      "cell_type": "code",
      "source": [
        "T=T.type(torch.float32) #the dtype must be float for calculating mean\n",
        "T.mean().item()"
      ],
      "metadata": {
        "colab": {
          "base_uri": "https://localhost:8080/"
        },
        "id": "W_1rXFyosCM3",
        "outputId": "dfba08a9-a728-403c-ec36-490f24857445"
      },
      "execution_count": null,
      "outputs": [
        {
          "output_type": "execute_result",
          "data": {
            "text/plain": [
              "4.5"
            ]
          },
          "metadata": {},
          "execution_count": 118
        }
      ]
    },
    {
      "cell_type": "code",
      "source": [
        "T.argmin().item() # returns index of lowest number"
      ],
      "metadata": {
        "colab": {
          "base_uri": "https://localhost:8080/"
        },
        "id": "ijx7xkDHsHQA",
        "outputId": "6317e526-f5d9-49fe-8fc4-11f50ef451db"
      },
      "execution_count": null,
      "outputs": [
        {
          "output_type": "execute_result",
          "data": {
            "text/plain": [
              "0"
            ]
          },
          "metadata": {},
          "execution_count": 120
        }
      ]
    },
    {
      "cell_type": "code",
      "source": [
        "T.argmax().item() # returns index of highest number"
      ],
      "metadata": {
        "colab": {
          "base_uri": "https://localhost:8080/"
        },
        "id": "LNO4h9y5tFv1",
        "outputId": "0d1d4e8c-da91-41a0-9f22-36159696b0c7"
      },
      "execution_count": null,
      "outputs": [
        {
          "output_type": "execute_result",
          "data": {
            "text/plain": [
              "9"
            ]
          },
          "metadata": {},
          "execution_count": 121
        }
      ]
    },
    {
      "cell_type": "markdown",
      "source": [
        "## Reshaping, stacking, squeezing and unsqueezing tensors\n",
        "* Reshape/View -  reshapes an input tensor to a defined shape\n",
        "* Stacking - combine multiple tensors on top of each other (vstack) or side by side\n",
        "(hstack)\n",
        "* Squeeze - removes all '1' dimensions from a tensor\n",
        "* Unsqueeze - add a '1' dimension to a target tensor"
      ],
      "metadata": {
        "id": "v6CPmlEd_yNH"
      }
    },
    {
      "cell_type": "markdown",
      "source": [
        "## Reshape"
      ],
      "metadata": {
        "id": "kNn2PNjcBsD9"
      }
    },
    {
      "cell_type": "code",
      "source": [
        "A= torch.arange(1,11)\n",
        "A, A.size()"
      ],
      "metadata": {
        "colab": {
          "base_uri": "https://localhost:8080/"
        },
        "id": "v7tTh8AltQdR",
        "outputId": "b413ed92-9c68-4fd6-920e-d30cb815bdd3"
      },
      "execution_count": null,
      "outputs": [
        {
          "output_type": "execute_result",
          "data": {
            "text/plain": [
              "(tensor([ 1,  2,  3,  4,  5,  6,  7,  8,  9, 10]), torch.Size([10]))"
            ]
          },
          "metadata": {},
          "execution_count": 148
        }
      ]
    },
    {
      "cell_type": "code",
      "source": [
        "A.reshape(5,2),A.reshape(2,5) # 5 rows 2 columns and 2 rows 5 columns\n",
        "# rule- for reshape the original size of the tensor must be multiple of new formimg tensors like [10]= 2X5, 5X2"
      ],
      "metadata": {
        "colab": {
          "base_uri": "https://localhost:8080/"
        },
        "id": "X9Mu8WrJBvSU",
        "outputId": "47d57940-57f5-4eb6-e50c-6fa1cbe60a79"
      },
      "execution_count": null,
      "outputs": [
        {
          "output_type": "execute_result",
          "data": {
            "text/plain": [
              "(tensor([[ 1,  2],\n",
              "         [ 3,  4],\n",
              "         [ 5,  6],\n",
              "         [ 7,  8],\n",
              "         [ 9, 10]]),\n",
              " tensor([[ 1,  2,  3,  4,  5],\n",
              "         [ 6,  7,  8,  9, 10]]))"
            ]
          },
          "metadata": {},
          "execution_count": 150
        }
      ]
    },
    {
      "cell_type": "markdown",
      "source": [
        "## View"
      ],
      "metadata": {
        "id": "xp9AZejLM0oq"
      }
    },
    {
      "cell_type": "code",
      "source": [
        "B=A.view(5,2)\n",
        "B"
      ],
      "metadata": {
        "colab": {
          "base_uri": "https://localhost:8080/"
        },
        "id": "qX5PkyaRIx9X",
        "outputId": "a3d48d1e-9ee0-4080-c6c3-20e9baaab82a"
      },
      "execution_count": null,
      "outputs": [
        {
          "output_type": "execute_result",
          "data": {
            "text/plain": [
              "tensor([[ 1,  2],\n",
              "        [ 3,  4],\n",
              "        [ 5,  6],\n",
              "        [ 7,  8],\n",
              "        [ 9, 10]])"
            ]
          },
          "metadata": {},
          "execution_count": 169
        }
      ]
    },
    {
      "cell_type": "markdown",
      "source": [
        "# Stack"
      ],
      "metadata": {
        "id": "m3YOnu-2NV2c"
      }
    },
    {
      "cell_type": "code",
      "source": [
        "S= torch.arange(1,11,2)\n",
        "Y=torch.arange(11,21,2)\n",
        "\n",
        "print(S)\n",
        "print(\"\\n\")\n",
        "print(Y)"
      ],
      "metadata": {
        "colab": {
          "base_uri": "https://localhost:8080/"
        },
        "id": "LKHQ-iCtNZgk",
        "outputId": "5acf412f-4d30-41df-e19b-fe32322f3c69"
      },
      "execution_count": null,
      "outputs": [
        {
          "output_type": "stream",
          "name": "stdout",
          "text": [
            "tensor([1, 3, 5, 7, 9])\n",
            "\n",
            "\n",
            "tensor([11, 13, 15, 17, 19])\n"
          ]
        }
      ]
    },
    {
      "cell_type": "code",
      "source": [
        "# dim=0 stack below /rowwise\n",
        "x_stacked=torch.stack([S,Y],dim=0)\n",
        "x_stacked"
      ],
      "metadata": {
        "colab": {
          "base_uri": "https://localhost:8080/"
        },
        "id": "XxvPhzRJNkNV",
        "outputId": "a675cba1-4a6c-484d-e091-f8f179d0624c"
      },
      "execution_count": null,
      "outputs": [
        {
          "output_type": "execute_result",
          "data": {
            "text/plain": [
              "tensor([[ 1,  3,  5,  7,  9],\n",
              "        [11, 13, 15, 17, 19]])"
            ]
          },
          "metadata": {},
          "execution_count": 181
        }
      ]
    },
    {
      "cell_type": "code",
      "source": [
        "# dim=1 stack sidewise /columnwise\n",
        "x_stacked=torch.stack([S,Y],dim=1)\n",
        "x_stacked"
      ],
      "metadata": {
        "colab": {
          "base_uri": "https://localhost:8080/"
        },
        "id": "FeXaxbhvPLSV",
        "outputId": "981e3a51-fe82-4ac4-f0eb-1a8d01195710"
      },
      "execution_count": null,
      "outputs": [
        {
          "output_type": "execute_result",
          "data": {
            "text/plain": [
              "tensor([[ 1, 11],\n",
              "        [ 3, 13],\n",
              "        [ 5, 15],\n",
              "        [ 7, 17],\n",
              "        [ 9, 19]])"
            ]
          },
          "metadata": {},
          "execution_count": 183
        }
      ]
    },
    {
      "cell_type": "markdown",
      "source": [
        "# Squeeze"
      ],
      "metadata": {
        "id": "c0uKF6gDPX22"
      }
    },
    {
      "cell_type": "code",
      "source": [
        "M = torch.rand(1,2,5)\n",
        "print(M,'\\n')\n",
        "print(M.shape)"
      ],
      "metadata": {
        "id": "S6qv2xtzuPBf",
        "colab": {
          "base_uri": "https://localhost:8080/"
        },
        "outputId": "6b5f6a78-2617-4242-ccbc-732e0dece715"
      },
      "execution_count": null,
      "outputs": [
        {
          "output_type": "stream",
          "name": "stdout",
          "text": [
            "tensor([[[0.0876, 0.9174, 0.5076, 0.9379, 0.2919],\n",
            "         [0.2684, 0.9028, 0.5993, 0.7906, 0.2452]]]) \n",
            "\n",
            "torch.Size([1, 2, 5])\n"
          ]
        }
      ]
    },
    {
      "cell_type": "code",
      "source": [
        "Z=M.squeeze() #removes 1 dim\n",
        "print(Z,'\\n')\n",
        "print(Z.shape)\n",
        "\n",
        "#we cant further squeeze since shape has not got 1 here torch.Size([2, 5])"
      ],
      "metadata": {
        "colab": {
          "base_uri": "https://localhost:8080/"
        },
        "id": "4PfwwaN3NVRA",
        "outputId": "e70bab2a-54b6-4725-e6bb-894cb1fe7cd9"
      },
      "execution_count": null,
      "outputs": [
        {
          "output_type": "stream",
          "name": "stdout",
          "text": [
            "tensor([[0.0876, 0.9174, 0.5076, 0.9379, 0.2919],\n",
            "        [0.2684, 0.9028, 0.5993, 0.7906, 0.2452]]) \n",
            "\n",
            "torch.Size([2, 5])\n"
          ]
        }
      ]
    },
    {
      "cell_type": "markdown",
      "source": [
        "# Unsqueeze"
      ],
      "metadata": {
        "id": "sS3VzEaeRZ6C"
      }
    },
    {
      "cell_type": "code",
      "source": [
        "N = torch.rand(2,5)\n",
        "print(N,'\\n')\n",
        "print(N.shape)"
      ],
      "metadata": {
        "colab": {
          "base_uri": "https://localhost:8080/"
        },
        "id": "aixJI0JFR_2l",
        "outputId": "4a5fff1c-3702-40e0-c118-c2c110209405"
      },
      "execution_count": null,
      "outputs": [
        {
          "output_type": "stream",
          "name": "stdout",
          "text": [
            "tensor([[0.7673, 0.3048, 0.4905, 0.3399, 0.2974],\n",
            "        [0.4137, 0.7717, 0.4588, 0.2951, 0.5826]]) \n",
            "\n",
            "torch.Size([2, 5])\n"
          ]
        }
      ]
    },
    {
      "cell_type": "code",
      "source": [
        "# here dim=0 is outer dim=1 is inner\n",
        "print(N.unsqueeze(dim=0),N.unsqueeze(dim=0).shape,\"\\n\")\n",
        "print(N.unsqueeze(dim=1),N.unsqueeze(dim=1).shape,\"\\n\")"
      ],
      "metadata": {
        "colab": {
          "base_uri": "https://localhost:8080/"
        },
        "id": "jN2lhjXRSPt-",
        "outputId": "62781505-219b-42e4-d142-9fb0b41b292c"
      },
      "execution_count": null,
      "outputs": [
        {
          "output_type": "stream",
          "name": "stdout",
          "text": [
            "tensor([[[0.7673, 0.3048, 0.4905, 0.3399, 0.2974],\n",
            "         [0.4137, 0.7717, 0.4588, 0.2951, 0.5826]]]) torch.Size([1, 2, 5]) \n",
            "\n",
            "tensor([[[0.7673, 0.3048, 0.4905, 0.3399, 0.2974]],\n",
            "\n",
            "        [[0.4137, 0.7717, 0.4588, 0.2951, 0.5826]]]) torch.Size([2, 1, 5]) \n",
            "\n"
          ]
        }
      ]
    },
    {
      "cell_type": "markdown",
      "source": [
        "# Check for GPU Access With Pytorch"
      ],
      "metadata": {
        "id": "AAtvVaXCxIu_"
      }
    },
    {
      "cell_type": "code",
      "source": [
        "import torch\n",
        "\"Cuda Available\" if torch.cuda.is_available() else \"CPU\""
      ],
      "metadata": {
        "colab": {
          "base_uri": "https://localhost:8080/",
          "height": 36
        },
        "id": "ZP8PlNmhuT9R",
        "outputId": "3ee7c1a3-b8ed-4cd9-e9e4-59be18176151"
      },
      "execution_count": null,
      "outputs": [
        {
          "output_type": "execute_result",
          "data": {
            "text/plain": [
              "'CPU'"
            ],
            "application/vnd.google.colaboratory.intrinsic+json": {
              "type": "string"
            }
          },
          "metadata": {},
          "execution_count": 135
        }
      ]
    },
    {
      "cell_type": "markdown",
      "source": [
        "# Running Tenors on GPU"
      ],
      "metadata": {
        "id": "2WmKr3rEyl5_"
      }
    },
    {
      "cell_type": "code",
      "source": [
        "A= torch.tensor([1,2,3])\n",
        "device=A.device\n",
        "print('The Tensor will be Processed on :',A.device)"
      ],
      "metadata": {
        "colab": {
          "base_uri": "https://localhost:8080/"
        },
        "id": "hamWCGluxTd_",
        "outputId": "a93a79b8-45f5-4312-b24a-bd868d349069"
      },
      "execution_count": null,
      "outputs": [
        {
          "output_type": "stream",
          "name": "stdout",
          "text": [
            "The Tensor will be Processed on : cpu\n"
          ]
        }
      ]
    },
    {
      "cell_type": "code",
      "source": [
        "A = A.to(device) #we can make our tensor to run on device 1)cpu or 2)Gpu\n",
        "A"
      ],
      "metadata": {
        "colab": {
          "base_uri": "https://localhost:8080/"
        },
        "id": "7hYJoCC7y5lp",
        "outputId": "74d1f2cc-6e1a-48ad-89d0-58c18e875cc8"
      },
      "execution_count": null,
      "outputs": [
        {
          "output_type": "execute_result",
          "data": {
            "text/plain": [
              "tensor([1, 2, 3])"
            ]
          },
          "metadata": {},
          "execution_count": 140
        }
      ]
    },
    {
      "cell_type": "code",
      "source": [],
      "metadata": {
        "id": "PvpawsjSzTiO"
      },
      "execution_count": null,
      "outputs": []
    }
  ]
}